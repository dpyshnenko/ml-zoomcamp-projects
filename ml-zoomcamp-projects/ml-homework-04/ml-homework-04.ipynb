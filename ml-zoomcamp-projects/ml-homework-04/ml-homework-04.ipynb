{
 "cells": [
  {
   "cell_type": "markdown",
   "id": "0d4c2e48",
   "metadata": {},
   "source": [
    "# 4. Model Evaluation"
   ]
  },
  {
   "cell_type": "code",
   "execution_count": 1,
   "id": "initial_id",
   "metadata": {
    "ExecuteTime": {
     "start_time": "2023-10-09T20:04:45.283269Z"
    }
   },
   "outputs": [],
   "source": [
    "# Import libraries\n",
    "import numpy as np\n",
    "import pandas as pd\n",
    "import seaborn as sns\n",
    "from sklearn.model_selection import train_test_split\n",
    "from sklearn.metrics import mutual_info_score\n",
    "from sklearn.feature_extraction import DictVectorizer\n",
    "from sklearn.linear_model import LogisticRegression\n",
    "from sklearn.metrics import accuracy_score\n",
    "from sklearn.metrics import classification_report\n",
    "from sklearn.linear_model import Ridge\n",
    "from sklearn.metrics import mean_squared_error\n",
    "from math import sqrt\n",
    "from sklearn.metrics import roc_auc_score\n",
    "from sklearn.metrics import precision_recall_curve\n",
    "import matplotlib.pyplot as plt\n",
    "from sklearn.metrics import f1_score\n",
    "from sklearn.model_selection import KFold"
   ]
  },
  {
   "cell_type": "markdown",
   "id": "e7e65fe6",
   "metadata": {},
   "source": [
    "## Data preparation"
   ]
  },
  {
   "cell_type": "code",
   "execution_count": 2,
   "id": "f977ff6e",
   "metadata": {
    "ExecuteTime": {
     "end_time": "2023-10-02T20:17:15.520706Z",
     "start_time": "2023-10-02T20:17:15.515910Z"
    }
   },
   "outputs": [],
   "source": [
    "file_path = 'https://raw.githubusercontent.com/alexeygrigorev/mlbookcamp-code/master/chapter-02-car-price/data.csv'"
   ]
  },
  {
   "cell_type": "code",
   "execution_count": 3,
   "id": "f7d40b61",
   "metadata": {
    "ExecuteTime": {
     "end_time": "2023-10-02T20:17:29.178799Z",
     "start_time": "2023-10-02T20:17:28.851385Z"
    }
   },
   "outputs": [],
   "source": [
    "df = pd.read_csv(file_path)"
   ]
  },
  {
   "cell_type": "code",
   "execution_count": 4,
   "id": "ab85ac5b",
   "metadata": {
    "ExecuteTime": {
     "end_time": "2023-10-02T20:17:31.221993Z",
     "start_time": "2023-10-02T20:17:31.209489Z"
    }
   },
   "outputs": [
    {
     "data": {
      "text/html": [
       "<div>\n",
       "<style scoped>\n",
       "    .dataframe tbody tr th:only-of-type {\n",
       "        vertical-align: middle;\n",
       "    }\n",
       "\n",
       "    .dataframe tbody tr th {\n",
       "        vertical-align: top;\n",
       "    }\n",
       "\n",
       "    .dataframe thead th {\n",
       "        text-align: right;\n",
       "    }\n",
       "</style>\n",
       "<table border=\"1\" class=\"dataframe\">\n",
       "  <thead>\n",
       "    <tr style=\"text-align: right;\">\n",
       "      <th></th>\n",
       "      <th>Make</th>\n",
       "      <th>Model</th>\n",
       "      <th>Year</th>\n",
       "      <th>Engine Fuel Type</th>\n",
       "      <th>Engine HP</th>\n",
       "      <th>Engine Cylinders</th>\n",
       "      <th>Transmission Type</th>\n",
       "      <th>Driven_Wheels</th>\n",
       "      <th>Number of Doors</th>\n",
       "      <th>Market Category</th>\n",
       "      <th>Vehicle Size</th>\n",
       "      <th>Vehicle Style</th>\n",
       "      <th>highway MPG</th>\n",
       "      <th>city mpg</th>\n",
       "      <th>Popularity</th>\n",
       "      <th>MSRP</th>\n",
       "    </tr>\n",
       "  </thead>\n",
       "  <tbody>\n",
       "    <tr>\n",
       "      <th>3182</th>\n",
       "      <td>Cadillac</td>\n",
       "      <td>CT6</td>\n",
       "      <td>2016</td>\n",
       "      <td>premium unleaded (required)</td>\n",
       "      <td>404.0</td>\n",
       "      <td>6.0</td>\n",
       "      <td>AUTOMATIC</td>\n",
       "      <td>all wheel drive</td>\n",
       "      <td>4.0</td>\n",
       "      <td>Luxury,High-Performance</td>\n",
       "      <td>Large</td>\n",
       "      <td>Sedan</td>\n",
       "      <td>26</td>\n",
       "      <td>18</td>\n",
       "      <td>1624</td>\n",
       "      <td>87465</td>\n",
       "    </tr>\n",
       "    <tr>\n",
       "      <th>3315</th>\n",
       "      <td>Oldsmobile</td>\n",
       "      <td>Cutlass Ciera</td>\n",
       "      <td>1992</td>\n",
       "      <td>regular unleaded</td>\n",
       "      <td>160.0</td>\n",
       "      <td>6.0</td>\n",
       "      <td>AUTOMATIC</td>\n",
       "      <td>front wheel drive</td>\n",
       "      <td>4.0</td>\n",
       "      <td>NaN</td>\n",
       "      <td>Midsize</td>\n",
       "      <td>Wagon</td>\n",
       "      <td>27</td>\n",
       "      <td>17</td>\n",
       "      <td>26</td>\n",
       "      <td>2000</td>\n",
       "    </tr>\n",
       "    <tr>\n",
       "      <th>6963</th>\n",
       "      <td>Pontiac</td>\n",
       "      <td>Montana</td>\n",
       "      <td>2005</td>\n",
       "      <td>regular unleaded</td>\n",
       "      <td>200.0</td>\n",
       "      <td>6.0</td>\n",
       "      <td>AUTOMATIC</td>\n",
       "      <td>all wheel drive</td>\n",
       "      <td>4.0</td>\n",
       "      <td>NaN</td>\n",
       "      <td>Midsize</td>\n",
       "      <td>Passenger Minivan</td>\n",
       "      <td>21</td>\n",
       "      <td>15</td>\n",
       "      <td>210</td>\n",
       "      <td>27700</td>\n",
       "    </tr>\n",
       "    <tr>\n",
       "      <th>8094</th>\n",
       "      <td>Dodge</td>\n",
       "      <td>RAM 250</td>\n",
       "      <td>1992</td>\n",
       "      <td>regular unleaded</td>\n",
       "      <td>230.0</td>\n",
       "      <td>8.0</td>\n",
       "      <td>MANUAL</td>\n",
       "      <td>four wheel drive</td>\n",
       "      <td>2.0</td>\n",
       "      <td>NaN</td>\n",
       "      <td>Large</td>\n",
       "      <td>Regular Cab Pickup</td>\n",
       "      <td>15</td>\n",
       "      <td>12</td>\n",
       "      <td>1851</td>\n",
       "      <td>2000</td>\n",
       "    </tr>\n",
       "    <tr>\n",
       "      <th>9745</th>\n",
       "      <td>Hyundai</td>\n",
       "      <td>Sonata</td>\n",
       "      <td>2017</td>\n",
       "      <td>regular unleaded</td>\n",
       "      <td>245.0</td>\n",
       "      <td>4.0</td>\n",
       "      <td>AUTOMATIC</td>\n",
       "      <td>front wheel drive</td>\n",
       "      <td>4.0</td>\n",
       "      <td>Performance</td>\n",
       "      <td>Midsize</td>\n",
       "      <td>Sedan</td>\n",
       "      <td>31</td>\n",
       "      <td>22</td>\n",
       "      <td>1439</td>\n",
       "      <td>26600</td>\n",
       "    </tr>\n",
       "    <tr>\n",
       "      <th>4873</th>\n",
       "      <td>Kia</td>\n",
       "      <td>Forte</td>\n",
       "      <td>2016</td>\n",
       "      <td>regular unleaded</td>\n",
       "      <td>173.0</td>\n",
       "      <td>4.0</td>\n",
       "      <td>AUTOMATIC</td>\n",
       "      <td>front wheel drive</td>\n",
       "      <td>4.0</td>\n",
       "      <td>Hatchback,Performance</td>\n",
       "      <td>Compact</td>\n",
       "      <td>4dr Hatchback</td>\n",
       "      <td>33</td>\n",
       "      <td>25</td>\n",
       "      <td>1720</td>\n",
       "      <td>20390</td>\n",
       "    </tr>\n",
       "    <tr>\n",
       "      <th>7517</th>\n",
       "      <td>Nissan</td>\n",
       "      <td>Pathfinder</td>\n",
       "      <td>2015</td>\n",
       "      <td>regular unleaded</td>\n",
       "      <td>260.0</td>\n",
       "      <td>6.0</td>\n",
       "      <td>AUTOMATIC</td>\n",
       "      <td>front wheel drive</td>\n",
       "      <td>4.0</td>\n",
       "      <td>Crossover</td>\n",
       "      <td>Large</td>\n",
       "      <td>4dr SUV</td>\n",
       "      <td>27</td>\n",
       "      <td>20</td>\n",
       "      <td>2009</td>\n",
       "      <td>41560</td>\n",
       "    </tr>\n",
       "    <tr>\n",
       "      <th>4885</th>\n",
       "      <td>Kia</td>\n",
       "      <td>Forte</td>\n",
       "      <td>2017</td>\n",
       "      <td>regular unleaded</td>\n",
       "      <td>164.0</td>\n",
       "      <td>4.0</td>\n",
       "      <td>AUTOMATIC</td>\n",
       "      <td>front wheel drive</td>\n",
       "      <td>4.0</td>\n",
       "      <td>Hatchback</td>\n",
       "      <td>Compact</td>\n",
       "      <td>4dr Hatchback</td>\n",
       "      <td>34</td>\n",
       "      <td>25</td>\n",
       "      <td>1720</td>\n",
       "      <td>21990</td>\n",
       "    </tr>\n",
       "    <tr>\n",
       "      <th>10143</th>\n",
       "      <td>Suzuki</td>\n",
       "      <td>SX4</td>\n",
       "      <td>2013</td>\n",
       "      <td>regular unleaded</td>\n",
       "      <td>150.0</td>\n",
       "      <td>4.0</td>\n",
       "      <td>MANUAL</td>\n",
       "      <td>all wheel drive</td>\n",
       "      <td>4.0</td>\n",
       "      <td>Crossover,Hatchback</td>\n",
       "      <td>Compact</td>\n",
       "      <td>4dr Hatchback</td>\n",
       "      <td>30</td>\n",
       "      <td>22</td>\n",
       "      <td>481</td>\n",
       "      <td>16999</td>\n",
       "    </tr>\n",
       "    <tr>\n",
       "      <th>3349</th>\n",
       "      <td>Mazda</td>\n",
       "      <td>CX-3</td>\n",
       "      <td>2017</td>\n",
       "      <td>regular unleaded</td>\n",
       "      <td>146.0</td>\n",
       "      <td>4.0</td>\n",
       "      <td>AUTOMATIC</td>\n",
       "      <td>all wheel drive</td>\n",
       "      <td>4.0</td>\n",
       "      <td>Crossover</td>\n",
       "      <td>Compact</td>\n",
       "      <td>4dr SUV</td>\n",
       "      <td>32</td>\n",
       "      <td>27</td>\n",
       "      <td>586</td>\n",
       "      <td>26240</td>\n",
       "    </tr>\n",
       "  </tbody>\n",
       "</table>\n",
       "</div>"
      ],
      "text/plain": [
       "             Make          Model  Year             Engine Fuel Type  \\\n",
       "3182     Cadillac            CT6  2016  premium unleaded (required)   \n",
       "3315   Oldsmobile  Cutlass Ciera  1992             regular unleaded   \n",
       "6963      Pontiac        Montana  2005             regular unleaded   \n",
       "8094        Dodge        RAM 250  1992             regular unleaded   \n",
       "9745      Hyundai         Sonata  2017             regular unleaded   \n",
       "4873          Kia          Forte  2016             regular unleaded   \n",
       "7517       Nissan     Pathfinder  2015             regular unleaded   \n",
       "4885          Kia          Forte  2017             regular unleaded   \n",
       "10143      Suzuki            SX4  2013             regular unleaded   \n",
       "3349        Mazda           CX-3  2017             regular unleaded   \n",
       "\n",
       "       Engine HP  Engine Cylinders Transmission Type      Driven_Wheels  \\\n",
       "3182       404.0               6.0         AUTOMATIC    all wheel drive   \n",
       "3315       160.0               6.0         AUTOMATIC  front wheel drive   \n",
       "6963       200.0               6.0         AUTOMATIC    all wheel drive   \n",
       "8094       230.0               8.0            MANUAL   four wheel drive   \n",
       "9745       245.0               4.0         AUTOMATIC  front wheel drive   \n",
       "4873       173.0               4.0         AUTOMATIC  front wheel drive   \n",
       "7517       260.0               6.0         AUTOMATIC  front wheel drive   \n",
       "4885       164.0               4.0         AUTOMATIC  front wheel drive   \n",
       "10143      150.0               4.0            MANUAL    all wheel drive   \n",
       "3349       146.0               4.0         AUTOMATIC    all wheel drive   \n",
       "\n",
       "       Number of Doors          Market Category Vehicle Size  \\\n",
       "3182               4.0  Luxury,High-Performance        Large   \n",
       "3315               4.0                      NaN      Midsize   \n",
       "6963               4.0                      NaN      Midsize   \n",
       "8094               2.0                      NaN        Large   \n",
       "9745               4.0              Performance      Midsize   \n",
       "4873               4.0    Hatchback,Performance      Compact   \n",
       "7517               4.0                Crossover        Large   \n",
       "4885               4.0                Hatchback      Compact   \n",
       "10143              4.0      Crossover,Hatchback      Compact   \n",
       "3349               4.0                Crossover      Compact   \n",
       "\n",
       "            Vehicle Style  highway MPG  city mpg  Popularity   MSRP  \n",
       "3182                Sedan           26        18        1624  87465  \n",
       "3315                Wagon           27        17          26   2000  \n",
       "6963    Passenger Minivan           21        15         210  27700  \n",
       "8094   Regular Cab Pickup           15        12        1851   2000  \n",
       "9745                Sedan           31        22        1439  26600  \n",
       "4873        4dr Hatchback           33        25        1720  20390  \n",
       "7517              4dr SUV           27        20        2009  41560  \n",
       "4885        4dr Hatchback           34        25        1720  21990  \n",
       "10143       4dr Hatchback           30        22         481  16999  \n",
       "3349              4dr SUV           32        27         586  26240  "
      ]
     },
     "execution_count": 4,
     "metadata": {},
     "output_type": "execute_result"
    }
   ],
   "source": [
    "# Check dataframe\n",
    "df.sample(10)"
   ]
  },
  {
   "cell_type": "code",
   "execution_count": 5,
   "id": "c0699fc1",
   "metadata": {
    "ExecuteTime": {
     "end_time": "2023-10-02T20:23:09.806256Z",
     "start_time": "2023-10-02T20:23:09.802388Z"
    }
   },
   "outputs": [],
   "source": [
    "# Define columns we want to keep\n",
    "columns_to_keep = [\n",
    "'Make',\n",
    "'Model',\n",
    "'Year',\n",
    "'Engine HP',\n",
    "'Engine Cylinders',\n",
    "'Transmission Type',\n",
    "'Vehicle Style',\n",
    "'highway MPG',\n",
    "'city mpg',\n",
    "'MSRP'\n",
    "]\n",
    "\n",
    "# Keep only required columns for the project\n",
    "df_filtered = df[columns_to_keep]"
   ]
  },
  {
   "cell_type": "code",
   "execution_count": 6,
   "id": "b662e1b238b70d93",
   "metadata": {
    "ExecuteTime": {
     "end_time": "2023-10-02T20:24:18.658863Z",
     "start_time": "2023-10-02T20:24:18.652798Z"
    }
   },
   "outputs": [
    {
     "name": "stdout",
     "output_type": "stream",
     "text": [
      "Make                  0\n",
      "Model                 0\n",
      "Year                  0\n",
      "Engine HP            69\n",
      "Engine Cylinders     30\n",
      "Transmission Type     0\n",
      "Vehicle Style         0\n",
      "highway MPG           0\n",
      "city mpg              0\n",
      "MSRP                  0\n",
      "dtype: int64\n"
     ]
    }
   ],
   "source": [
    "# Check missing values\n",
    "missing_values = df_filtered.isnull().sum()\n",
    "print(missing_values)"
   ]
  },
  {
   "cell_type": "code",
   "execution_count": 7,
   "id": "7481919f997ccf4d",
   "metadata": {
    "ExecuteTime": {
     "end_time": "2023-10-02T20:24:16.315188Z",
     "start_time": "2023-10-02T20:24:16.311607Z"
    }
   },
   "outputs": [],
   "source": [
    "df_filtered = df_filtered.fillna(0)"
   ]
  },
  {
   "cell_type": "code",
   "execution_count": 8,
   "id": "f994db064be7e81b",
   "metadata": {
    "ExecuteTime": {
     "end_time": "2023-10-02T20:24:30.559296Z",
     "start_time": "2023-10-02T20:24:30.552053Z"
    }
   },
   "outputs": [],
   "source": [
    "df_filtered.columns = df_filtered.columns.str.replace(' ', '_').str.lower()"
   ]
  },
  {
   "cell_type": "code",
   "execution_count": 9,
   "id": "f84bf0444b8c9094",
   "metadata": {
    "ExecuteTime": {
     "end_time": "2023-10-02T20:26:15.779539Z",
     "start_time": "2023-10-02T20:26:15.755675Z"
    }
   },
   "outputs": [],
   "source": [
    "df_filtered.rename(columns={'msrp': 'price'}, inplace=True)"
   ]
  },
  {
   "cell_type": "markdown",
   "id": "97ec62d5",
   "metadata": {},
   "source": [
    "### Make price binary"
   ]
  },
  {
   "cell_type": "code",
   "execution_count": 10,
   "id": "1d4bef87",
   "metadata": {},
   "outputs": [
    {
     "data": {
      "text/plain": [
       "40594.737032063116"
      ]
     },
     "execution_count": 10,
     "metadata": {},
     "output_type": "execute_result"
    }
   ],
   "source": [
    "mean_price = df_filtered['price'].mean()\n",
    "mean_price"
   ]
  },
  {
   "cell_type": "code",
   "execution_count": 11,
   "id": "cafee30c",
   "metadata": {},
   "outputs": [],
   "source": [
    "df_filtered['above_average'] = np.where(df_filtered['price'] > mean_price, 1, 0)"
   ]
  },
  {
   "cell_type": "markdown",
   "id": "734c60a3",
   "metadata": {},
   "source": [
    "### Split the data"
   ]
  },
  {
   "cell_type": "code",
   "execution_count": 12,
   "id": "1979596f",
   "metadata": {},
   "outputs": [],
   "source": [
    "df_full_train, df_test = train_test_split(df_filtered, test_size=0.2, random_state=1)\n",
    "df_train, df_val = train_test_split(df_full_train, test_size=0.25, random_state=1)"
   ]
  },
  {
   "cell_type": "code",
   "execution_count": 13,
   "id": "c9ce8c37",
   "metadata": {},
   "outputs": [],
   "source": [
    "df_train = df_train.reset_index(drop=True)\n",
    "df_val = df_val.reset_index(drop=True)\n",
    "df_test = df_test.reset_index(drop=True)"
   ]
  },
  {
   "cell_type": "code",
   "execution_count": 14,
   "id": "6da18873",
   "metadata": {},
   "outputs": [],
   "source": [
    "y_train = df_train.above_average.values\n",
    "y_val = df_val.above_average.values\n",
    "y_test = df_test.above_average.values\n"
   ]
  },
  {
   "cell_type": "code",
   "execution_count": 15,
   "id": "f3d62205",
   "metadata": {},
   "outputs": [
    {
     "name": "stdout",
     "output_type": "stream",
     "text": [
      "Training set: 59.99664260533826 %\n",
      "Validation set: 20.00167869733087 samples\n",
      "Test set: 20.00167869733087 samples\n"
     ]
    }
   ],
   "source": [
    "print(f'Training set: {(df_train.shape[0]/len(df_filtered))*100} %')\n",
    "print(f'Validation set: {(df_val.shape[0]/len(df_filtered))*100} samples')\n",
    "print(f'Test set: {(df_test.shape[0]/len(df_filtered))*100} samples')"
   ]
  },
  {
   "cell_type": "markdown",
   "id": "c7421fde1949dd32",
   "metadata": {},
   "source": [
    "## Question 1 - ROC AUC feature importance"
   ]
  },
  {
   "cell_type": "code",
   "execution_count": 16,
   "id": "4dabb372",
   "metadata": {},
   "outputs": [],
   "source": [
    "categorical = [\n",
    "    'make',\n",
    "    'model',\n",
    "    'vehicle_style',\n",
    "    'transmission_type'\n",
    "]"
   ]
  },
  {
   "cell_type": "code",
   "execution_count": 17,
   "id": "9b1579e3",
   "metadata": {},
   "outputs": [],
   "source": [
    "numerical = [\n",
    "    'year',\n",
    "    'engine_hp',\n",
    "    'highway_mpg',\n",
    "    'city_mpg',\n",
    "    'engine_cylinders']"
   ]
  },
  {
   "cell_type": "code",
   "execution_count": 18,
   "id": "73d8a404",
   "metadata": {},
   "outputs": [],
   "source": [
    "auc_scores = {}"
   ]
  },
  {
   "cell_type": "code",
   "execution_count": 19,
   "id": "88d6a15c",
   "metadata": {},
   "outputs": [
    {
     "name": "stdout",
     "output_type": "stream",
     "text": [
      "year: 0.69\n",
      "engine_hp: 0.92\n",
      "highway_mpg: 0.63\n",
      "city_mpg: 0.67\n",
      "engine_cylinders: 0.77\n"
     ]
    }
   ],
   "source": [
    "for feature in numerical:\n",
    "    auc = roc_auc_score(df_train['above_average'], df_train[feature])\n",
    "    if auc < 0.5:\n",
    "        auc = roc_auc_score(df_train['above_average'], -df_train[feature])\n",
    "    print(f\"{feature}: {auc:.2f}\")"
   ]
  },
  {
   "cell_type": "markdown",
   "id": "fab97109",
   "metadata": {},
   "source": [
    "## Question 2 - Training the model"
   ]
  },
  {
   "cell_type": "code",
   "execution_count": 20,
   "id": "72ef7c0d",
   "metadata": {},
   "outputs": [],
   "source": [
    "dv = DictVectorizer(sparse=False)\n",
    "\n",
    "train_dict = df_train[categorical + numerical].to_dict(orient='records')\n",
    "X_train = dv.fit_transform(train_dict)\n",
    "\n",
    "val_dict = df_val[categorical + numerical].to_dict(orient='records')\n",
    "X_val = dv.transform(val_dict)\n"
   ]
  },
  {
   "cell_type": "code",
   "execution_count": 21,
   "id": "f2f2df26",
   "metadata": {},
   "outputs": [],
   "source": [
    "df_train.drop(['above_average', 'price'], axis=1, inplace=True)\n",
    "\n",
    "df_val.drop(['above_average', 'price'], axis=1, inplace=True)\n",
    "df_test.drop(['above_average', 'price'], axis=1, inplace=True)"
   ]
  },
  {
   "cell_type": "code",
   "execution_count": 22,
   "id": "541450ec",
   "metadata": {},
   "outputs": [
    {
     "data": {
      "text/html": [
       "<style>#sk-container-id-1 {color: black;background-color: white;}#sk-container-id-1 pre{padding: 0;}#sk-container-id-1 div.sk-toggleable {background-color: white;}#sk-container-id-1 label.sk-toggleable__label {cursor: pointer;display: block;width: 100%;margin-bottom: 0;padding: 0.3em;box-sizing: border-box;text-align: center;}#sk-container-id-1 label.sk-toggleable__label-arrow:before {content: \"▸\";float: left;margin-right: 0.25em;color: #696969;}#sk-container-id-1 label.sk-toggleable__label-arrow:hover:before {color: black;}#sk-container-id-1 div.sk-estimator:hover label.sk-toggleable__label-arrow:before {color: black;}#sk-container-id-1 div.sk-toggleable__content {max-height: 0;max-width: 0;overflow: hidden;text-align: left;background-color: #f0f8ff;}#sk-container-id-1 div.sk-toggleable__content pre {margin: 0.2em;color: black;border-radius: 0.25em;background-color: #f0f8ff;}#sk-container-id-1 input.sk-toggleable__control:checked~div.sk-toggleable__content {max-height: 200px;max-width: 100%;overflow: auto;}#sk-container-id-1 input.sk-toggleable__control:checked~label.sk-toggleable__label-arrow:before {content: \"▾\";}#sk-container-id-1 div.sk-estimator input.sk-toggleable__control:checked~label.sk-toggleable__label {background-color: #d4ebff;}#sk-container-id-1 div.sk-label input.sk-toggleable__control:checked~label.sk-toggleable__label {background-color: #d4ebff;}#sk-container-id-1 input.sk-hidden--visually {border: 0;clip: rect(1px 1px 1px 1px);clip: rect(1px, 1px, 1px, 1px);height: 1px;margin: -1px;overflow: hidden;padding: 0;position: absolute;width: 1px;}#sk-container-id-1 div.sk-estimator {font-family: monospace;background-color: #f0f8ff;border: 1px dotted black;border-radius: 0.25em;box-sizing: border-box;margin-bottom: 0.5em;}#sk-container-id-1 div.sk-estimator:hover {background-color: #d4ebff;}#sk-container-id-1 div.sk-parallel-item::after {content: \"\";width: 100%;border-bottom: 1px solid gray;flex-grow: 1;}#sk-container-id-1 div.sk-label:hover label.sk-toggleable__label {background-color: #d4ebff;}#sk-container-id-1 div.sk-serial::before {content: \"\";position: absolute;border-left: 1px solid gray;box-sizing: border-box;top: 0;bottom: 0;left: 50%;z-index: 0;}#sk-container-id-1 div.sk-serial {display: flex;flex-direction: column;align-items: center;background-color: white;padding-right: 0.2em;padding-left: 0.2em;position: relative;}#sk-container-id-1 div.sk-item {position: relative;z-index: 1;}#sk-container-id-1 div.sk-parallel {display: flex;align-items: stretch;justify-content: center;background-color: white;position: relative;}#sk-container-id-1 div.sk-item::before, #sk-container-id-1 div.sk-parallel-item::before {content: \"\";position: absolute;border-left: 1px solid gray;box-sizing: border-box;top: 0;bottom: 0;left: 50%;z-index: -1;}#sk-container-id-1 div.sk-parallel-item {display: flex;flex-direction: column;z-index: 1;position: relative;background-color: white;}#sk-container-id-1 div.sk-parallel-item:first-child::after {align-self: flex-end;width: 50%;}#sk-container-id-1 div.sk-parallel-item:last-child::after {align-self: flex-start;width: 50%;}#sk-container-id-1 div.sk-parallel-item:only-child::after {width: 0;}#sk-container-id-1 div.sk-dashed-wrapped {border: 1px dashed gray;margin: 0 0.4em 0.5em 0.4em;box-sizing: border-box;padding-bottom: 0.4em;background-color: white;}#sk-container-id-1 div.sk-label label {font-family: monospace;font-weight: bold;display: inline-block;line-height: 1.2em;}#sk-container-id-1 div.sk-label-container {text-align: center;}#sk-container-id-1 div.sk-container {/* jupyter's `normalize.less` sets `[hidden] { display: none; }` but bootstrap.min.css set `[hidden] { display: none !important; }` so we also need the `!important` here to be able to override the default hidden behavior on the sphinx rendered scikit-learn.org. See: https://github.com/scikit-learn/scikit-learn/issues/21755 */display: inline-block !important;position: relative;}#sk-container-id-1 div.sk-text-repr-fallback {display: none;}</style><div id=\"sk-container-id-1\" class=\"sk-top-container\"><div class=\"sk-text-repr-fallback\"><pre>LogisticRegression(max_iter=1000, solver=&#x27;liblinear&#x27;)</pre><b>In a Jupyter environment, please rerun this cell to show the HTML representation or trust the notebook. <br />On GitHub, the HTML representation is unable to render, please try loading this page with nbviewer.org.</b></div><div class=\"sk-container\" hidden><div class=\"sk-item\"><div class=\"sk-estimator sk-toggleable\"><input class=\"sk-toggleable__control sk-hidden--visually\" id=\"sk-estimator-id-1\" type=\"checkbox\" checked><label for=\"sk-estimator-id-1\" class=\"sk-toggleable__label sk-toggleable__label-arrow\">LogisticRegression</label><div class=\"sk-toggleable__content\"><pre>LogisticRegression(max_iter=1000, solver=&#x27;liblinear&#x27;)</pre></div></div></div></div></div>"
      ],
      "text/plain": [
       "LogisticRegression(max_iter=1000, solver='liblinear')"
      ]
     },
     "execution_count": 22,
     "metadata": {},
     "output_type": "execute_result"
    }
   ],
   "source": [
    "model = LogisticRegression(solver='liblinear', C=1.0, max_iter=1000)\n",
    "# solver='lbfgs' is the default solver in newer version of sklearn\n",
    "# for older versions, you need to specify it explicitly\n",
    "model.fit(X_train, y_train)"
   ]
  },
  {
   "cell_type": "code",
   "execution_count": 23,
   "id": "70cdc72f",
   "metadata": {},
   "outputs": [],
   "source": [
    "y_pred = model.predict(X_val)"
   ]
  },
  {
   "cell_type": "code",
   "execution_count": 24,
   "id": "920d3073",
   "metadata": {},
   "outputs": [
    {
     "name": "stdout",
     "output_type": "stream",
     "text": [
      "The AUC of the model on the validation dataset is: 0.98\n"
     ]
    }
   ],
   "source": [
    "# Predicting the probability for the positive class\n",
    "y_pred_proba = model.predict_proba(X_val)[:, 1]\n",
    "\n",
    "# Calculating AUC\n",
    "auc = roc_auc_score(y_val, y_pred_proba)\n",
    "\n",
    "# Display AUC rounded to 3 decimal places\n",
    "print(f\"The AUC of the model on the validation dataset is: {round(auc, 3)}\")"
   ]
  },
  {
   "cell_type": "markdown",
   "id": "5b4fcb39",
   "metadata": {},
   "source": [
    "## Question 3 - Precision and Recall"
   ]
  },
  {
   "cell_type": "code",
   "execution_count": 25,
   "id": "0c141f05",
   "metadata": {},
   "outputs": [
    {
     "data": {
      "image/png": "[encoded data removed]",
      "text/plain": [
       "<Figure size 640x480 with 1 Axes>"
      ]
     },
     "metadata": {},
     "output_type": "display_data"
    },
    {
     "name": "stdout",
     "output_type": "stream",
     "text": [
      "Precision and recall intersect approximately at threshold: 0.47\n"
     ]
    }
   ],
   "source": [
    "# Define thresholds\n",
    "thresholds = np.arange(0.0, 1.01, 0.01)  # from 0.0 to 1.0 with step 0.01\n",
    "\n",
    "# Calculate precision and recall for each threshold\n",
    "precisions = []\n",
    "recalls = []\n",
    "\n",
    "for threshold in thresholds:\n",
    "    y_pred_binarized = (y_pred_proba >= threshold).astype(int)\n",
    "    precision, recall, _ = precision_recall_curve(y_val, y_pred_binarized)\n",
    "    precisions.append(precision[1])  # appending the precision for positive class\n",
    "    recalls.append(recall[1])  # appending the recall for positive class\n",
    "\n",
    "# Plotting\n",
    "plt.plot(thresholds, precisions, label='Precision')\n",
    "plt.plot(thresholds, recalls, label='Recall')\n",
    "plt.xlabel('Threshold')\n",
    "plt.ylabel('Score')\n",
    "plt.title('Precision and Recall at Different Thresholds')\n",
    "plt.legend()\n",
    "plt.grid(True)\n",
    "plt.show()\n",
    "\n",
    "# Find the threshold where precision and recall intersect\n",
    "intersect_threshold_index = np.argwhere(np.isclose(precisions, recalls, atol=0.01)).flatten()\n",
    "if intersect_threshold_index.size > 0:\n",
    "    intersect_threshold = thresholds[intersect_threshold_index[0]]\n",
    "    print(f\"Precision and recall intersect approximately at threshold: {intersect_threshold:.2f}\")\n",
    "else:\n",
    "    print(\"Precision and recall do not intersect\")"
   ]
  },
  {
   "cell_type": "markdown",
   "id": "10376974",
   "metadata": {},
   "source": [
    "## Question 4 - F1 score"
   ]
  },
  {
   "cell_type": "code",
   "execution_count": 26,
   "id": "d088d0c2",
   "metadata": {},
   "outputs": [
    {
     "name": "stdout",
     "output_type": "stream",
     "text": [
      "Maximum F1 Score: 0.8887 at Threshold: 0.480\n"
     ]
    }
   ],
   "source": [
    "max_f1 = 0\n",
    "best_threshold = 0\n",
    "\n",
    "for threshold in thresholds:\n",
    "    y_pred = (y_pred_proba >= threshold).astype(int)  # Predict class labels based on threshold\n",
    "    f1 = f1_score(y_val, y_pred)  # Calculate F1 Score\n",
    "    \n",
    "    # Update max F1 Score and best threshold if current F1 Score is better\n",
    "    if f1 > max_f1:\n",
    "        max_f1 = f1\n",
    "        best_threshold = threshold\n",
    "\n",
    "print(f\"Maximum F1 Score: {max_f1:.4f} at Threshold: {best_threshold:.3f}\")"
   ]
  },
  {
   "cell_type": "code",
   "execution_count": 27,
   "id": "4d55a2c7",
   "metadata": {},
   "outputs": [
    {
     "name": "stdout",
     "output_type": "stream",
     "text": [
      "Maximum F1 Score: 0.8887 at Threshold: 0.480\n"
     ]
    }
   ],
   "source": [
    "# Manual F1 calculation \n",
    "\n",
    "max_f1 = 0\n",
    "best_threshold = 0\n",
    "\n",
    "for threshold in thresholds:\n",
    "    # Predict class labels based on threshold\n",
    "    y_pred = np.where(y_pred_proba >= threshold, 1, 0)\n",
    "    \n",
    "    # Calculate precision and recall\n",
    "    precision, recall, _ = precision_recall_curve(y_val, y_pred)\n",
    "    \n",
    "    if len(precision) > 1:\n",
    "        precision = precision[1]\n",
    "        recall = recall[1]\n",
    "    \n",
    "    # Calculate F1 Score\n",
    "    if precision + recall > 0:\n",
    "        f1 = 2 * (precision * recall) / (precision + recall)\n",
    "    else:\n",
    "        f1 = 0\n",
    "    \n",
    "    # Update max F1 Score and best threshold if current F1 Score is better\n",
    "    if f1 > max_f1:\n",
    "        max_f1 = f1\n",
    "        best_threshold = threshold\n",
    "\n",
    "print(f\"Maximum F1 Score: {max_f1:.4f} at Threshold: {best_threshold:.3f}\")"
   ]
  },
  {
   "cell_type": "markdown",
   "id": "3efe8d6a",
   "metadata": {},
   "source": [
    "## Question 5 - 5-Fold CV"
   ]
  },
  {
   "cell_type": "code",
   "execution_count": 38,
   "id": "3a1671a4",
   "metadata": {},
   "outputs": [
    {
     "name": "stdout",
     "output_type": "stream",
     "text": [
      "The standard deviation of AUC scores: 0.003\n"
     ]
    }
   ],
   "source": [
    "kf = KFold(n_splits=5, shuffle=True, random_state=1)\n",
    "\n",
    "auc_scores = []\n",
    "\n",
    "for train_index, val_index in kf.split(df_full_train):\n",
    "    \n",
    "    # Split the data\n",
    "    df_train = df_full_train.iloc[train_index]\n",
    "    df_val = df_full_train.iloc[val_index]\n",
    "    \n",
    "    y_train = df_train.above_average.values\n",
    "    y_val = df_val.above_average.values\n",
    "    \n",
    "    df_train = df_train.drop(['above_average', 'price'], axis=1)\n",
    "    df_val = df_val.drop(['above_average', 'price'], axis=1)\n",
    "\n",
    "    dv = DictVectorizer(sparse=False)\n",
    "    \n",
    "    train_dict = df_train[categorical + numerical].to_dict(orient='records')\n",
    "    X_train = dv.fit_transform(train_dict)\n",
    "\n",
    "    val_dict = df_val[categorical + numerical].to_dict(orient='records')\n",
    "    X_val = dv.transform(val_dict)\n",
    "    \n",
    "    # Train the model\n",
    "    model = LogisticRegression(solver='liblinear', C=1.0, max_iter=1000)\n",
    "    model.fit(X_train, y_train)\n",
    "    \n",
    "    # Predict and evaluate the model\n",
    "    y_pred = model.predict_proba(X_val)[:, 1]\n",
    "    auc = roc_auc_score(y_val, y_pred)\n",
    "    \n",
    "    auc_scores.append(auc)\n",
    "\n",
    "# Calculate the standard deviation of AUC scores\n",
    "auc_std_dev = np.std(auc_scores)\n",
    "print(f'The standard deviation of AUC scores: {round(auc_std_dev,3)}')"
   ]
  },
  {
   "cell_type": "markdown",
   "id": "92fd9a3a",
   "metadata": {},
   "source": [
    "## Question 6 - Hyperparemeter Tuning"
   ]
  },
  {
   "cell_type": "code",
   "execution_count": 56,
   "id": "d7c3c3b7",
   "metadata": {},
   "outputs": [
    {
     "name": "stdout",
     "output_type": "stream",
     "text": [
      "C value: 0.01\n",
      "AUC mean value: 0.970100461174728\n",
      "AUC std value: 0.012238874639791716\n",
      "C value: 0.1\n",
      "AUC mean value: 0.970135698994183\n",
      "AUC std value: 0.012115837883854286\n",
      "C value: 0.5\n",
      "AUC mean value: 0.9702887160602433\n",
      "AUC std value: 0.012041645162758994\n",
      "C value: 10\n",
      "AUC mean value: 0.9705236041545807\n",
      "AUC std value: 0.012042244099462267\n"
     ]
    }
   ],
   "source": [
    "C_values = [0.01, 0.1, 0.5, 10]\n",
    "\n",
    "kf = KFold(n_splits=5, shuffle=True, random_state=1)\n",
    "\n",
    "for c_value in C_values:\n",
    "\n",
    "        for train_index, val_index in kf.split(df_full_train):\n",
    "\n",
    "            # Split the data\n",
    "            df_train = df_full_train.iloc[train_index]\n",
    "            df_val = df_full_train.iloc[val_index]\n",
    "\n",
    "            y_train = df_train.above_average.values\n",
    "            y_val = df_val.above_average.values\n",
    "\n",
    "            df_train.drop(['above_average', 'price'], axis=1)\n",
    "            df_val.drop(['above_average', 'price'], axis=1)\n",
    "            dv = DictVectorizer(sparse=False)\n",
    "\n",
    "            train_dict = df_train[categorical + numerical].to_dict(orient='records')\n",
    "            X_train = dv.fit_transform(train_dict)\n",
    "\n",
    "            val_dict = df_val[categorical + numerical].to_dict(orient='records')\n",
    "            X_val = dv.transform(val_dict)\n",
    "\n",
    "            # Train the model\n",
    "            model = LogisticRegression(solver='liblinear', C=c_value, max_iter=1000)\n",
    "            model.fit(X_train, y_train)\n",
    "\n",
    "            # Predict and evaluate the model\n",
    "            y_pred = model.predict_proba(X_val)[:, 1]\n",
    "            auc = roc_auc_score(y_val, y_pred)\n",
    "\n",
    "            auc_scores.append(auc)\n",
    "\n",
    "        # Calculate the standard deviation of AUC scores\n",
    "        auc_std_dev = np.std(auc_scores)\n",
    "        auc_mean_dev = np.mean(auc_scores)\n",
    "        print(f'C value: {c_value}')\n",
    "        print(f'AUC mean value: {auc_mean_dev}')\n",
    "        print(f'AUC std value: {auc_std_dev}')"
   ]
  }
 ],
 "metadata": {
  "jupytext": {
   "formats": "ipynb,auto:percent"
  },
  "kernelspec": {
   "display_name": "Python 3 (ipykernel)",
   "language": "python",
   "name": "python3"
  },
  "language_info": {
   "codemirror_mode": {
    "name": "ipython",
    "version": 3
   },
   "file_extension": ".py",
   "mimetype": "text/x-python",
   "name": "python",
   "nbconvert_exporter": "python",
   "pygments_lexer": "ipython3",
   "version": "3.9.6"
  }
 },
 "nbformat": 4,
 "nbformat_minor": 5
}
