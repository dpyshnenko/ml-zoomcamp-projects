{
 "cells": [
  {
   "cell_type": "markdown",
   "source": [
    "# 5. Model Deployment"
   ],
   "metadata": {
    "collapsed": false
   },
   "id": "cacc998bd8f0d639"
  },
  {
   "cell_type": "markdown",
   "source": [
    "### Question 2"
   ],
   "metadata": {
    "collapsed": false
   },
   "id": "30a06225323d8855"
  },
  {
   "cell_type": "code",
   "execution_count": 23,
   "outputs": [
    {
     "name": "stdout",
     "output_type": "stream",
     "text": [
      "sha256:0c275a06c5190c5ce00af0acbb61c06374087949f643ef32d355ece12c4db043\n"
     ]
    }
   ],
   "source": [
    "import json\n",
    "\n",
    "# Load Pipfile.lock data\n",
    "with open(\"Pipfile.lock\", \"r\") as file:\n",
    "    data = json.load(file)\n",
    "\n",
    "# Extract the first hash for scikit-learn\n",
    "hashes = data['default']['scikit-learn']['hashes']\n",
    "first_hash = hashes[0] if hashes else None\n",
    "\n",
    "print(first_hash)\n"
   ],
   "metadata": {
    "collapsed": false,
    "ExecuteTime": {
     "end_time": "2023-10-16T21:19:48.451247Z",
     "start_time": "2023-10-16T21:19:48.446276Z"
    }
   },
   "id": "8ee95bfb8f71daec"
  },
  {
   "cell_type": "code",
   "execution_count": 24,
   "outputs": [],
   "source": [
    "import pickle\n",
    "\n",
    "# Loading DictVectorizer\n",
    "with open(\"../ml-homework-05/dv.bin\", \"rb\") as f_in:\n",
    "    dv = pickle.load(f_in)\n",
    "\n",
    "# Loading LogisticRegression model\n",
    "with open(\"../ml-homework-05/model1.bin\", \"rb\") as f_in:\n",
    "    model = pickle.load(f_in)"
   ],
   "metadata": {
    "collapsed": false,
    "ExecuteTime": {
     "end_time": "2023-10-16T21:19:48.454718Z",
     "start_time": "2023-10-16T21:19:48.450511Z"
    }
   },
   "id": "bcc87b0c26eeb0a7"
  },
  {
   "cell_type": "markdown",
   "source": [
    "### Question 3"
   ],
   "metadata": {
    "collapsed": false
   },
   "id": "6220cdd21692d375"
  },
  {
   "cell_type": "code",
   "execution_count": 29,
   "outputs": [],
   "source": [
    "def predict_single(customer, dv, model):\n",
    "  X = dv.transform([customer])  ## apply the one-hot encoding feature to the customer data \n",
    "  y_pred = model.predict_proba(X)[:, 1]\n",
    "  return y_pred[0]"
   ],
   "metadata": {
    "collapsed": false,
    "ExecuteTime": {
     "end_time": "2023-10-16T21:27:39.806671Z",
     "start_time": "2023-10-16T21:27:39.803476Z"
    }
   },
   "id": "e9dd7976a62035d2"
  },
  {
   "cell_type": "code",
   "execution_count": 32,
   "outputs": [
    {
     "name": "stdout",
     "output_type": "stream",
     "text": [
      "Probability that the client will get a credit: 0.902\n"
     ]
    }
   ],
   "source": [
    "# Client data\n",
    "client_data = {\"job\": \"retired\", \"duration\": 445, \"poutcome\": \"success\"}\n",
    "\n",
    "print(f\"Probability that the client will get a credit: {predict_single(client_data, dv,model):.3f}\")"
   ],
   "metadata": {
    "collapsed": false,
    "ExecuteTime": {
     "end_time": "2023-10-16T21:27:56.575251Z",
     "start_time": "2023-10-16T21:27:56.571286Z"
    }
   },
   "id": "d89136aae4585040"
  },
  {
   "cell_type": "markdown",
   "source": [
    "### Question 4"
   ],
   "metadata": {
    "collapsed": false
   },
   "id": "c22cde19e6ae0a58"
  },
  {
   "cell_type": "code",
   "execution_count": 59,
   "outputs": [
    {
     "name": "stdout",
     "output_type": "stream",
     "text": [
      "Probability that the client will get a credit: 0.140\n"
     ]
    }
   ],
   "source": [
    "import requests\n",
    "\n",
    "url = \"http://127.0.0.1:9696/predict\"\n",
    "client = {\"job\": \"unknown\", \"duration\": 270, \"poutcome\": \"failure\"}\n",
    "response = requests.post(url, json=client)\n",
    "result = response.json()\n",
    "prob = result[\"probability\"]\n",
    "\n",
    "print(f\"Probability that the client will get a credit: {prob:.3f}\")\n"
   ],
   "metadata": {
    "collapsed": false,
    "ExecuteTime": {
     "end_time": "2023-10-16T22:31:33.735758Z",
     "start_time": "2023-10-16T22:31:33.702450Z"
    }
   },
   "id": "b1d2afc9388d98de"
  },
  {
   "cell_type": "code",
   "execution_count": 60,
   "outputs": [
    {
     "name": "stdout",
     "output_type": "stream",
     "text": [
      "{'probability': 0.9019309332297606}\n"
     ]
    }
   ],
   "source": [
    "import requests\n",
    "\n",
    "# Replace YOUR_URL with the URL your Flask app is running on. If it's on your local machine:\n",
    "url = \"http://127.0.0.1:9696/predict\"\n",
    "client = {\"job\": \"retired\", \"duration\": 445, \"poutcome\": \"success\"}\n",
    "\n",
    "response = requests.post(url, json=client)\n",
    "result = response.json()\n",
    "\n",
    "print(result)\n"
   ],
   "metadata": {
    "collapsed": false,
    "ExecuteTime": {
     "end_time": "2023-10-16T22:31:35.438490Z",
     "start_time": "2023-10-16T22:31:35.417447Z"
    }
   },
   "id": "a426d178e19027c"
  }
 ],
 "metadata": {
  "kernelspec": {
   "display_name": "Python 3",
   "language": "python",
   "name": "python3"
  },
  "language_info": {
   "codemirror_mode": {
    "name": "ipython",
    "version": 2
   },
   "file_extension": ".py",
   "mimetype": "text/x-python",
   "name": "python",
   "nbconvert_exporter": "python",
   "pygments_lexer": "ipython2",
   "version": "2.7.6"
  }
 },
 "nbformat": 4,
 "nbformat_minor": 5
}
