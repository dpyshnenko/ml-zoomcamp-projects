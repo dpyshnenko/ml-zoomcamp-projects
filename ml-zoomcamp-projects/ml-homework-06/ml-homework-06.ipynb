{
 "cells": [
  {
   "cell_type": "markdown",
   "id": "0d4c2e48",
   "metadata": {},
   "source": [
    "## 6. Decision tree"
   ]
  },
  {
   "cell_type": "code",
   "execution_count": 34,
   "id": "initial_id",
   "metadata": {
    "ExecuteTime": {
     "end_time": "2023-10-23T21:23:02.581076Z",
     "start_time": "2023-10-23T21:23:02.340644Z"
    }
   },
   "outputs": [],
   "source": [
    "# Import libraries\n",
    "import pandas as pd\n",
    "from sklearn.model_selection import train_test_split\n",
    "from sklearn.feature_extraction import DictVectorizer\n",
    "from sklearn.tree import DecisionTreeRegressor\n",
    "import numpy as np\n",
    "from sklearn.ensemble import RandomForestRegressor\n",
    "from sklearn.metrics import mean_squared_error\n",
    "import xgboost as xgb"
   ]
  },
  {
   "cell_type": "markdown",
   "id": "e7e65fe6",
   "metadata": {},
   "source": [
    "## 6.1 Data preparation"
   ]
  },
  {
   "cell_type": "code",
   "execution_count": 2,
   "id": "9cf5a6b6-1693-40d3-a88f-439fdd0e5787",
   "metadata": {},
   "outputs": [],
   "source": [
    "data = \"https://raw.githubusercontent.com/alexeygrigorev/datasets/master/housing.csv\""
   ]
  },
  {
   "cell_type": "code",
   "execution_count": 3,
   "id": "430811f6-dd93-47e4-ba76-c61fbfc8ca90",
   "metadata": {},
   "outputs": [
    {
     "name": "stdout",
     "output_type": "stream",
     "text": [
      "--2023-10-23 23:49:26--  https://raw.githubusercontent.com/alexeygrigorev/datasets/master/housing.csv\n",
      "Resolving raw.githubusercontent.com (raw.githubusercontent.com)... 2606:50c0:8003::154, 2606:50c0:8001::154, 2606:50c0:8000::154, ...\n",
      "Connecting to raw.githubusercontent.com (raw.githubusercontent.com)|2606:50c0:8003::154|:443... connected.\n",
      "HTTP request sent, awaiting response... 200 OK\n",
      "Length: 1423529 (1.4M) [text/plain]\n",
      "Saving to: ‘housing.csv.3’\n",
      "\n",
      "housing.csv.3       100%[===================>]   1.36M  --.-KB/s    in 0.09s   \n",
      "\n",
      "2023-10-23 23:49:26 (14.5 MB/s) - ‘housing.csv.3’ saved [1423529/1423529]\n",
      "\n"
     ]
    }
   ],
   "source": [
    "!wget $data"
   ]
  },
  {
   "cell_type": "code",
   "execution_count": 4,
   "id": "25596e94-4f49-4951-94d7-b582b22e4d1f",
   "metadata": {},
   "outputs": [],
   "source": [
    "# Load data\n",
    "df = pd.read_csv(data)"
   ]
  },
  {
   "cell_type": "code",
   "execution_count": 5,
   "id": "1957f8aa-a0de-44b9-959b-c9b8c9292137",
   "metadata": {},
   "outputs": [],
   "source": [
    "# Filter the data based on `ocean_proximity`\n",
    "df = df[df['ocean_proximity'].isin(['<1H OCEAN', 'INLAND'])]\n",
    "\n",
    "# Prepare the data\n",
    "# Fill missing values with zeros\n",
    "df.fillna(0, inplace=True)\n",
    "\n",
    "# Apply the log transform to `median_house_value`\n",
    "df['median_house_value'] = np.log1p(df['median_house_value'])  # using log1p for numerical stability\n",
    "\n",
    "# Do train/validation/test split with 60%/20%/20% distribution\n",
    "df_full_train, df_test = train_test_split(df, test_size=0.2, random_state=1)\n",
    "df_train, df_val = train_test_split(df_full_train, test_size=0.25, random_state=1)  # 0.25 x 0.8 = 0.2\n",
    "\n",
    "# Separate target variable\n",
    "y_train = df_train['median_house_value'].values\n",
    "y_val = df_val['median_house_value'].values\n",
    "y_test = df_test['median_house_value'].values\n",
    "\n",
    "# Remove target column from the data\n",
    "del df_train['median_house_value']\n",
    "del df_val['median_house_value']\n",
    "del df_test['median_house_value']\n",
    "\n",
    "# Use DictVectorizer to convert dataframes to matrices\n",
    "dicts_train = df_train.to_dict(orient='records')\n",
    "dicts_val = df_val.to_dict(orient='records')\n",
    "dicts_test = df_test.to_dict(orient='records')\n",
    "\n",
    "dv = DictVectorizer(sparse=True)\n",
    "X_train = dv.fit_transform(dicts_train)\n",
    "X_val = dv.transform(dicts_val)\n",
    "X_test = dv.transform(dicts_test)\n"
   ]
  },
  {
   "cell_type": "markdown",
   "id": "f85a6488341d15f8",
   "metadata": {
    "collapsed": false,
    "jupyter": {
     "outputs_hidden": false
    }
   },
   "source": [
    "## Question 1\n"
   ]
  },
  {
   "cell_type": "code",
   "execution_count": 6,
   "id": "b662e1b238b70d93",
   "metadata": {
    "ExecuteTime": {
     "end_time": "2023-09-25T20:41:09.746616Z",
     "start_time": "2023-09-25T20:41:09.741119Z"
    },
    "collapsed": false,
    "jupyter": {
     "outputs_hidden": false
    }
   },
   "outputs": [
    {
     "data": {
      "text/html": [
       "<style>#sk-container-id-1 {color: black;}#sk-container-id-1 pre{padding: 0;}#sk-container-id-1 div.sk-toggleable {background-color: white;}#sk-container-id-1 label.sk-toggleable__label {cursor: pointer;display: block;width: 100%;margin-bottom: 0;padding: 0.3em;box-sizing: border-box;text-align: center;}#sk-container-id-1 label.sk-toggleable__label-arrow:before {content: \"▸\";float: left;margin-right: 0.25em;color: #696969;}#sk-container-id-1 label.sk-toggleable__label-arrow:hover:before {color: black;}#sk-container-id-1 div.sk-estimator:hover label.sk-toggleable__label-arrow:before {color: black;}#sk-container-id-1 div.sk-toggleable__content {max-height: 0;max-width: 0;overflow: hidden;text-align: left;background-color: #f0f8ff;}#sk-container-id-1 div.sk-toggleable__content pre {margin: 0.2em;color: black;border-radius: 0.25em;background-color: #f0f8ff;}#sk-container-id-1 input.sk-toggleable__control:checked~div.sk-toggleable__content {max-height: 200px;max-width: 100%;overflow: auto;}#sk-container-id-1 input.sk-toggleable__control:checked~label.sk-toggleable__label-arrow:before {content: \"▾\";}#sk-container-id-1 div.sk-estimator input.sk-toggleable__control:checked~label.sk-toggleable__label {background-color: #d4ebff;}#sk-container-id-1 div.sk-label input.sk-toggleable__control:checked~label.sk-toggleable__label {background-color: #d4ebff;}#sk-container-id-1 input.sk-hidden--visually {border: 0;clip: rect(1px 1px 1px 1px);clip: rect(1px, 1px, 1px, 1px);height: 1px;margin: -1px;overflow: hidden;padding: 0;position: absolute;width: 1px;}#sk-container-id-1 div.sk-estimator {font-family: monospace;background-color: #f0f8ff;border: 1px dotted black;border-radius: 0.25em;box-sizing: border-box;margin-bottom: 0.5em;}#sk-container-id-1 div.sk-estimator:hover {background-color: #d4ebff;}#sk-container-id-1 div.sk-parallel-item::after {content: \"\";width: 100%;border-bottom: 1px solid gray;flex-grow: 1;}#sk-container-id-1 div.sk-label:hover label.sk-toggleable__label {background-color: #d4ebff;}#sk-container-id-1 div.sk-serial::before {content: \"\";position: absolute;border-left: 1px solid gray;box-sizing: border-box;top: 0;bottom: 0;left: 50%;z-index: 0;}#sk-container-id-1 div.sk-serial {display: flex;flex-direction: column;align-items: center;background-color: white;padding-right: 0.2em;padding-left: 0.2em;position: relative;}#sk-container-id-1 div.sk-item {position: relative;z-index: 1;}#sk-container-id-1 div.sk-parallel {display: flex;align-items: stretch;justify-content: center;background-color: white;position: relative;}#sk-container-id-1 div.sk-item::before, #sk-container-id-1 div.sk-parallel-item::before {content: \"\";position: absolute;border-left: 1px solid gray;box-sizing: border-box;top: 0;bottom: 0;left: 50%;z-index: -1;}#sk-container-id-1 div.sk-parallel-item {display: flex;flex-direction: column;z-index: 1;position: relative;background-color: white;}#sk-container-id-1 div.sk-parallel-item:first-child::after {align-self: flex-end;width: 50%;}#sk-container-id-1 div.sk-parallel-item:last-child::after {align-self: flex-start;width: 50%;}#sk-container-id-1 div.sk-parallel-item:only-child::after {width: 0;}#sk-container-id-1 div.sk-dashed-wrapped {border: 1px dashed gray;margin: 0 0.4em 0.5em 0.4em;box-sizing: border-box;padding-bottom: 0.4em;background-color: white;}#sk-container-id-1 div.sk-label label {font-family: monospace;font-weight: bold;display: inline-block;line-height: 1.2em;}#sk-container-id-1 div.sk-label-container {text-align: center;}#sk-container-id-1 div.sk-container {/* jupyter's `normalize.less` sets `[hidden] { display: none; }` but bootstrap.min.css set `[hidden] { display: none !important; }` so we also need the `!important` here to be able to override the default hidden behavior on the sphinx rendered scikit-learn.org. See: https://github.com/scikit-learn/scikit-learn/issues/21755 */display: inline-block !important;position: relative;}#sk-container-id-1 div.sk-text-repr-fallback {display: none;}</style><div id=\"sk-container-id-1\" class=\"sk-top-container\"><div class=\"sk-text-repr-fallback\"><pre>DecisionTreeRegressor(max_depth=1)</pre><b>In a Jupyter environment, please rerun this cell to show the HTML representation or trust the notebook. <br />On GitHub, the HTML representation is unable to render, please try loading this page with nbviewer.org.</b></div><div class=\"sk-container\" hidden><div class=\"sk-item\"><div class=\"sk-estimator sk-toggleable\"><input class=\"sk-toggleable__control sk-hidden--visually\" id=\"sk-estimator-id-1\" type=\"checkbox\" checked><label for=\"sk-estimator-id-1\" class=\"sk-toggleable__label sk-toggleable__label-arrow\">DecisionTreeRegressor</label><div class=\"sk-toggleable__content\"><pre>DecisionTreeRegressor(max_depth=1)</pre></div></div></div></div></div>"
      ],
      "text/plain": [
       "DecisionTreeRegressor(max_depth=1)"
      ]
     },
     "execution_count": 6,
     "metadata": {},
     "output_type": "execute_result"
    }
   ],
   "source": [
    "# Train the DecisionTreeRegressor\n",
    "dt = DecisionTreeRegressor(max_depth=1)\n",
    "dt.fit(X_train, y_train)"
   ]
  },
  {
   "cell_type": "code",
   "execution_count": 7,
   "id": "070723eb-fcd1-463c-b813-aef26a36cf21",
   "metadata": {},
   "outputs": [],
   "source": [
    "# Find out the feature used for splitting the data\n",
    "split_feature_index = dt.tree_.feature[0]\n",
    "split_feature_name = dv.feature_names_[split_feature_index]"
   ]
  },
  {
   "cell_type": "code",
   "execution_count": 8,
   "id": "3301e757-e1b4-4bf2-9879-64b24bb62a41",
   "metadata": {},
   "outputs": [
    {
     "name": "stdout",
     "output_type": "stream",
     "text": [
      "Feature used for splitting: ocean_proximity=<1H OCEAN\n"
     ]
    }
   ],
   "source": [
    "print(f\"Feature used for splitting: {split_feature_name}\")"
   ]
  },
  {
   "cell_type": "markdown",
   "id": "e30d1624190b1b46",
   "metadata": {
    "collapsed": false,
    "jupyter": {
     "outputs_hidden": false
    }
   },
   "source": [
    "## Question 2"
   ]
  },
  {
   "cell_type": "code",
   "execution_count": 9,
   "id": "0e458b6c-b09a-47aa-9b9f-b8362ced9f7c",
   "metadata": {},
   "outputs": [
    {
     "data": {
      "text/html": [
       "<style>#sk-container-id-2 {color: black;}#sk-container-id-2 pre{padding: 0;}#sk-container-id-2 div.sk-toggleable {background-color: white;}#sk-container-id-2 label.sk-toggleable__label {cursor: pointer;display: block;width: 100%;margin-bottom: 0;padding: 0.3em;box-sizing: border-box;text-align: center;}#sk-container-id-2 label.sk-toggleable__label-arrow:before {content: \"▸\";float: left;margin-right: 0.25em;color: #696969;}#sk-container-id-2 label.sk-toggleable__label-arrow:hover:before {color: black;}#sk-container-id-2 div.sk-estimator:hover label.sk-toggleable__label-arrow:before {color: black;}#sk-container-id-2 div.sk-toggleable__content {max-height: 0;max-width: 0;overflow: hidden;text-align: left;background-color: #f0f8ff;}#sk-container-id-2 div.sk-toggleable__content pre {margin: 0.2em;color: black;border-radius: 0.25em;background-color: #f0f8ff;}#sk-container-id-2 input.sk-toggleable__control:checked~div.sk-toggleable__content {max-height: 200px;max-width: 100%;overflow: auto;}#sk-container-id-2 input.sk-toggleable__control:checked~label.sk-toggleable__label-arrow:before {content: \"▾\";}#sk-container-id-2 div.sk-estimator input.sk-toggleable__control:checked~label.sk-toggleable__label {background-color: #d4ebff;}#sk-container-id-2 div.sk-label input.sk-toggleable__control:checked~label.sk-toggleable__label {background-color: #d4ebff;}#sk-container-id-2 input.sk-hidden--visually {border: 0;clip: rect(1px 1px 1px 1px);clip: rect(1px, 1px, 1px, 1px);height: 1px;margin: -1px;overflow: hidden;padding: 0;position: absolute;width: 1px;}#sk-container-id-2 div.sk-estimator {font-family: monospace;background-color: #f0f8ff;border: 1px dotted black;border-radius: 0.25em;box-sizing: border-box;margin-bottom: 0.5em;}#sk-container-id-2 div.sk-estimator:hover {background-color: #d4ebff;}#sk-container-id-2 div.sk-parallel-item::after {content: \"\";width: 100%;border-bottom: 1px solid gray;flex-grow: 1;}#sk-container-id-2 div.sk-label:hover label.sk-toggleable__label {background-color: #d4ebff;}#sk-container-id-2 div.sk-serial::before {content: \"\";position: absolute;border-left: 1px solid gray;box-sizing: border-box;top: 0;bottom: 0;left: 50%;z-index: 0;}#sk-container-id-2 div.sk-serial {display: flex;flex-direction: column;align-items: center;background-color: white;padding-right: 0.2em;padding-left: 0.2em;position: relative;}#sk-container-id-2 div.sk-item {position: relative;z-index: 1;}#sk-container-id-2 div.sk-parallel {display: flex;align-items: stretch;justify-content: center;background-color: white;position: relative;}#sk-container-id-2 div.sk-item::before, #sk-container-id-2 div.sk-parallel-item::before {content: \"\";position: absolute;border-left: 1px solid gray;box-sizing: border-box;top: 0;bottom: 0;left: 50%;z-index: -1;}#sk-container-id-2 div.sk-parallel-item {display: flex;flex-direction: column;z-index: 1;position: relative;background-color: white;}#sk-container-id-2 div.sk-parallel-item:first-child::after {align-self: flex-end;width: 50%;}#sk-container-id-2 div.sk-parallel-item:last-child::after {align-self: flex-start;width: 50%;}#sk-container-id-2 div.sk-parallel-item:only-child::after {width: 0;}#sk-container-id-2 div.sk-dashed-wrapped {border: 1px dashed gray;margin: 0 0.4em 0.5em 0.4em;box-sizing: border-box;padding-bottom: 0.4em;background-color: white;}#sk-container-id-2 div.sk-label label {font-family: monospace;font-weight: bold;display: inline-block;line-height: 1.2em;}#sk-container-id-2 div.sk-label-container {text-align: center;}#sk-container-id-2 div.sk-container {/* jupyter's `normalize.less` sets `[hidden] { display: none; }` but bootstrap.min.css set `[hidden] { display: none !important; }` so we also need the `!important` here to be able to override the default hidden behavior on the sphinx rendered scikit-learn.org. See: https://github.com/scikit-learn/scikit-learn/issues/21755 */display: inline-block !important;position: relative;}#sk-container-id-2 div.sk-text-repr-fallback {display: none;}</style><div id=\"sk-container-id-2\" class=\"sk-top-container\"><div class=\"sk-text-repr-fallback\"><pre>RandomForestRegressor(n_estimators=10, n_jobs=-1, random_state=1)</pre><b>In a Jupyter environment, please rerun this cell to show the HTML representation or trust the notebook. <br />On GitHub, the HTML representation is unable to render, please try loading this page with nbviewer.org.</b></div><div class=\"sk-container\" hidden><div class=\"sk-item\"><div class=\"sk-estimator sk-toggleable\"><input class=\"sk-toggleable__control sk-hidden--visually\" id=\"sk-estimator-id-2\" type=\"checkbox\" checked><label for=\"sk-estimator-id-2\" class=\"sk-toggleable__label sk-toggleable__label-arrow\">RandomForestRegressor</label><div class=\"sk-toggleable__content\"><pre>RandomForestRegressor(n_estimators=10, n_jobs=-1, random_state=1)</pre></div></div></div></div></div>"
      ],
      "text/plain": [
       "RandomForestRegressor(n_estimators=10, n_jobs=-1, random_state=1)"
      ]
     },
     "execution_count": 9,
     "metadata": {},
     "output_type": "execute_result"
    }
   ],
   "source": [
    "# 1. Train the Random Forest model on the training data\n",
    "rf = RandomForestRegressor(n_estimators=10, random_state=1, n_jobs=-1)\n",
    "rf.fit(X_train, y_train)"
   ]
  },
  {
   "cell_type": "code",
   "execution_count": 10,
   "id": "ebb3bc2b-3f18-41f3-a6a0-b6fe4bd0c3ec",
   "metadata": {},
   "outputs": [],
   "source": [
    "# 2. Predict values on the validation data\n",
    "y_pred = rf.predict(X_val)"
   ]
  },
  {
   "cell_type": "code",
   "execution_count": 11,
   "id": "67a0e039-9a60-4fc4-baf1-42054ecfa86f",
   "metadata": {},
   "outputs": [],
   "source": [
    "# 3. Calculate the RMSE using these predicted values\n",
    "rmse = np.sqrt(mean_squared_error(y_val, y_pred))"
   ]
  },
  {
   "cell_type": "code",
   "execution_count": 12,
   "id": "4a3b7878-58c7-4fe3-9ae5-f602cf6b5311",
   "metadata": {},
   "outputs": [
    {
     "name": "stdout",
     "output_type": "stream",
     "text": [
      "RMSE: 0.2452\n"
     ]
    }
   ],
   "source": [
    "print(f\"RMSE: {round(rmse,4)}\")\n"
   ]
  },
  {
   "cell_type": "markdown",
   "id": "c7421fde1949dd32",
   "metadata": {
    "collapsed": false,
    "jupyter": {
     "outputs_hidden": false
    }
   },
   "source": [
    "## Question 3"
   ]
  },
  {
   "cell_type": "code",
   "execution_count": 13,
   "id": "2d13bbc8-fa12-4797-992b-b1167ea219f5",
   "metadata": {},
   "outputs": [],
   "source": [
    "best_rmse = float('inf')\n",
    "best_n = None"
   ]
  },
  {
   "cell_type": "code",
   "execution_count": 15,
   "id": "18db2d59-7dd7-472b-a42a-9c0a977a9b84",
   "metadata": {},
   "outputs": [
    {
     "name": "stdout",
     "output_type": "stream",
     "text": [
      "RMSE stops at the following n_estimators: 40 with the following RMSE: 0.235\n"
     ]
    }
   ],
   "source": [
    "for n in range(10, 201, 10): \n",
    "    rf = RandomForestRegressor(n_estimators=n, random_state=1, n_jobs=-1)\n",
    "    rf.fit(X_train, y_train)\n",
    "\n",
    "    y_pred = rf.predict(X_val)\n",
    "    rmse = np.sqrt(mean_squared_error(y_val, y_pred))\n",
    "\n",
    "    if rmse < best_rmse - 0.001:\n",
    "        best_rmse = rmse\n",
    "        best_n = n\n",
    "    else:\n",
    "        break\n",
    "print(f\"RMSE stops at the following n_estimators: {best_n} with the following RMSE: {round(best_rmse,3)}\")"
   ]
  },
  {
   "cell_type": "markdown",
   "id": "7ef2eed41e1fda1",
   "metadata": {
    "collapsed": false,
    "jupyter": {
     "outputs_hidden": false
    }
   },
   "source": [
    "## Question 4"
   ]
  },
  {
   "cell_type": "code",
   "execution_count": 20,
   "id": "1e3b0a89-3f51-4226-832a-943a9aec45e1",
   "metadata": {},
   "outputs": [],
   "source": [
    "best_rmse = float('inf')\n",
    "best_n = None\n",
    "best_max_depth = None\n",
    "max_depth = [10, 15, 20, 25]"
   ]
  },
  {
   "cell_type": "code",
   "execution_count": 22,
   "id": "130a2ca6-0b59-415a-8110-2d12faac798c",
   "metadata": {},
   "outputs": [
    {
     "name": "stdout",
     "output_type": "stream",
     "text": [
      "RMSE stops at the following n_estimators: 200 with the following mean RMSE: 0.235 and best max depth 25\n"
     ]
    }
   ],
   "source": [
    "for d in max_depth: \n",
    "    rmses = []\n",
    "    for n in range(10, 201, 10): \n",
    "        rf = RandomForestRegressor(n_estimators=n, random_state=1,  max_depth=d, n_jobs=-1)\n",
    "        rf.fit(X_train, y_train)\n",
    "    \n",
    "        y_pred = rf.predict(X_val)\n",
    "        rmse = np.sqrt(mean_squared_error(y_val, y_pred))\n",
    "\n",
    "        rmses.append(rmse)\n",
    "        \n",
    "    mean_rmse = np.mean(rmses)\n",
    "\n",
    "    if mean_rmse < best_rmse:\n",
    "        best_rmse = mean_rmse\n",
    "        best_max_depth = d\n",
    "        best_estimator = n \n",
    "        \n",
    "print(f\"RMSE stops at the following n_estimators: {best_estimator} with the following mean RMSE: {round(best_rmse,3)} and best max depth {best_max_depth}\")"
   ]
  },
  {
   "cell_type": "markdown",
   "id": "d83e436b-ef92-428a-867f-28bc86f4b3f7",
   "metadata": {},
   "source": [
    "## Question 5"
   ]
  },
  {
   "cell_type": "code",
   "execution_count": 24,
   "id": "5d1dd73b-5305-4512-a72b-69b8c75757d0",
   "metadata": {},
   "outputs": [
    {
     "name": "stdout",
     "output_type": "stream",
     "text": [
      "Most important feature: median_income\n"
     ]
    }
   ],
   "source": [
    "# 1. Train the RandomForestRegressor with the specified parameters\n",
    "rf = RandomForestRegressor(n_estimators=10, max_depth=20, random_state=1, n_jobs=-1)\n",
    "rf.fit(X_train, y_train)\n",
    "\n",
    "# 2. Retrieve the feature_importances_ attribute from the trained model\n",
    "importances = rf.feature_importances_\n",
    "\n",
    "# 3. Match the importance scores with the feature names\n",
    "features = dv.feature_names_\n",
    "feature_importance = list(zip(features, importances))\n",
    "\n",
    "# Sort by importance\n",
    "sorted_feature_importance = sorted(feature_importance, key=lambda x: x[1], reverse=True)\n",
    "\n",
    "# Print out the most important feature\n",
    "print(f\"Most important feature: {sorted_feature_importance[0][0]}\")"
   ]
  },
  {
   "cell_type": "markdown",
   "id": "f48c2148-3c31-428d-914c-05b33834e4e9",
   "metadata": {},
   "source": [
    "## Question 6"
   ]
  },
  {
   "cell_type": "code",
   "execution_count": 36,
   "id": "f553ece8-ddc9-4fd7-8d67-7d8851359445",
   "metadata": {},
   "outputs": [],
   "source": [
    "# 1. Create DMatrix for train and validation\n",
    "dtrain = xgb.DMatrix(X_train, label=y_train)\n",
    "dval = xgb.DMatrix(X_val, label=y_val)"
   ]
  },
  {
   "cell_type": "code",
   "execution_count": 37,
   "id": "8ae19c07-a2a4-4c99-ae8b-b0a78ce6c224",
   "metadata": {},
   "outputs": [],
   "source": [
    "# 2. Create a watchlist\n",
    "watchlist = [(dtrain, 'train'), (dval, 'val')]\n"
   ]
  },
  {
   "cell_type": "code",
   "execution_count": 44,
   "id": "1ef957dc-55a3-4858-bc06-98df4995606e",
   "metadata": {},
   "outputs": [
    {
     "name": "stdout",
     "output_type": "stream",
     "text": [
      "[0]\ttrain-rmse:0.44350\tval-rmse:0.44250\n",
      "[5]\ttrain-rmse:0.25338\tval-rmse:0.27463\n",
      "[10]\ttrain-rmse:0.21444\tval-rmse:0.25179\n",
      "[15]\ttrain-rmse:0.19858\tval-rmse:0.24522\n",
      "[20]\ttrain-rmse:0.18524\tval-rmse:0.23978\n",
      "[25]\ttrain-rmse:0.17757\tval-rmse:0.23830\n",
      "[30]\ttrain-rmse:0.16888\tval-rmse:0.23570\n",
      "[35]\ttrain-rmse:0.16113\tval-rmse:0.23416\n",
      "[40]\ttrain-rmse:0.15542\tval-rmse:0.23318\n",
      "[45]\ttrain-rmse:0.14941\tval-rmse:0.23190\n",
      "[50]\ttrain-rmse:0.14536\tval-rmse:0.23225\n",
      "[55]\ttrain-rmse:0.14150\tval-rmse:0.23197\n"
     ]
    }
   ],
   "source": [
    "# 3. Train model with eta=0.3\n",
    "model_03 = xgb.train(\n",
    "    xgb_params_03, \n",
    "    dtrain, \n",
    "    num_boost_round=100, \n",
    "    evals=watchlist, \n",
    "    early_stopping_rounds=10,  # Stop if no improvement in RMSE for 10 consecutive rounds\n",
    "    verbose_eval=5\n",
    ")\n",
    "rmse_03 = model_03.best_score"
   ]
  },
  {
   "cell_type": "code",
   "execution_count": 45,
   "id": "f50560bc-43af-4234-9b63-10d9f6952029",
   "metadata": {},
   "outputs": [
    {
     "name": "stdout",
     "output_type": "stream",
     "text": [
      "[0]\ttrain-rmse:0.52449\tval-rmse:0.52045\n",
      "[5]\ttrain-rmse:0.37822\tval-rmse:0.38151\n",
      "[10]\ttrain-rmse:0.30326\tval-rmse:0.31427\n",
      "[15]\ttrain-rmse:0.26538\tval-rmse:0.28380\n",
      "[20]\ttrain-rmse:0.24512\tval-rmse:0.26882\n",
      "[25]\ttrain-rmse:0.23026\tval-rmse:0.25997\n",
      "[30]\ttrain-rmse:0.21887\tval-rmse:0.25266\n",
      "[35]\ttrain-rmse:0.21020\tval-rmse:0.24826\n",
      "[40]\ttrain-rmse:0.20392\tval-rmse:0.24539\n",
      "[45]\ttrain-rmse:0.19814\tval-rmse:0.24293\n",
      "[50]\ttrain-rmse:0.19215\tval-rmse:0.24020\n",
      "[55]\ttrain-rmse:0.18809\tval-rmse:0.23878\n",
      "[60]\ttrain-rmse:0.18457\tval-rmse:0.23791\n",
      "[65]\ttrain-rmse:0.18063\tval-rmse:0.23698\n",
      "[70]\ttrain-rmse:0.17741\tval-rmse:0.23622\n",
      "[75]\ttrain-rmse:0.17468\tval-rmse:0.23510\n",
      "[80]\ttrain-rmse:0.17242\tval-rmse:0.23453\n",
      "[85]\ttrain-rmse:0.17014\tval-rmse:0.23404\n",
      "[90]\ttrain-rmse:0.16797\tval-rmse:0.23332\n",
      "[95]\ttrain-rmse:0.16562\tval-rmse:0.23276\n",
      "[99]\ttrain-rmse:0.16323\tval-rmse:0.23209\n"
     ]
    }
   ],
   "source": [
    "# 4. Train model with eta=0.1\n",
    "model_01 = xgb.train(\n",
    "    xgb_params_01, \n",
    "    dtrain, \n",
    "    num_boost_round=100, \n",
    "    evals=watchlist, \n",
    "    early_stopping_rounds=10,  # Stop if no improvement in RMSE for 10 consecutive rounds\n",
    "    verbose_eval=5\n",
    ")\n",
    "rmse_01 = model_01.best_score"
   ]
  },
  {
   "cell_type": "code",
   "execution_count": 46,
   "id": "1c6e7a72-c46e-4d4f-b4b6-f4c123c8c62e",
   "metadata": {},
   "outputs": [
    {
     "name": "stdout",
     "output_type": "stream",
     "text": [
      "Best eta: 0.3\n"
     ]
    }
   ],
   "source": [
    "# 6. Compare the two RMSE scores\n",
    "if rmse_03 < rmse_01:\n",
    "    best_eta = \"0.3\"\n",
    "elif rmse_03 > rmse_01:\n",
    "    best_eta = \"0.1\"\n",
    "else:\n",
    "    best_eta = \"Both give equal value\"\n",
    "\n",
    "print(f\"Best eta: {best_eta}\")\n",
    "\n"
   ]
  }
 ],
 "metadata": {
  "kernelspec": {
   "display_name": "Python 3 (ipykernel)",
   "language": "python",
   "name": "python3"
  },
  "language_info": {
   "codemirror_mode": {
    "name": "ipython",
    "version": 3
   },
   "file_extension": ".py",
   "mimetype": "text/x-python",
   "name": "python",
   "nbconvert_exporter": "python",
   "pygments_lexer": "ipython3",
   "version": "3.12.0"
  }
 },
 "nbformat": 4,
 "nbformat_minor": 5
}
