{
 "cells": [
  {
   "cell_type": "markdown",
   "id": "0d4c2e48",
   "metadata": {},
   "source": [
    "## 2. Machine Learning for Regression"
   ]
  },
  {
   "cell_type": "code",
   "execution_count": 453,
   "id": "initial_id",
   "metadata": {
    "ExecuteTime": {
     "end_time": "2023-09-25T20:41:09.448025Z",
     "start_time": "2023-09-25T20:41:09.338449Z"
    }
   },
   "outputs": [],
   "source": [
    "# Import libraries\n",
    "import numpy as np\n",
    "import pandas as pd\n",
    "import seaborn as sns"
   ]
  },
  {
   "cell_type": "markdown",
   "id": "e7e65fe6",
   "metadata": {},
   "source": [
    "## 2.2 Data preparation"
   ]
  },
  {
   "cell_type": "code",
   "execution_count": 454,
   "id": "f977ff6e",
   "metadata": {
    "ExecuteTime": {
     "end_time": "2023-09-25T20:41:09.448195Z",
     "start_time": "2023-09-25T20:41:09.343783Z"
    }
   },
   "outputs": [],
   "source": [
    "file_path = 'https://raw.githubusercontent.com/alexeygrigorev/datasets/master/housing.csv'"
   ]
  },
  {
   "cell_type": "code",
   "execution_count": 455,
   "id": "f7d40b61",
   "metadata": {
    "ExecuteTime": {
     "end_time": "2023-09-25T20:41:09.647001Z",
     "start_time": "2023-09-25T20:41:09.351368Z"
    }
   },
   "outputs": [],
   "source": [
    "df = pd.read_csv(file_path)"
   ]
  },
  {
   "cell_type": "code",
   "execution_count": 456,
   "id": "ab85ac5b",
   "metadata": {
    "ExecuteTime": {
     "end_time": "2023-09-25T20:41:09.647632Z",
     "start_time": "2023-09-25T20:41:09.599896Z"
    }
   },
   "outputs": [
    {
     "data": {
      "text/plain": "       longitude  latitude  housing_median_age  total_rooms  total_bedrooms  \\\n8343     -118.33     33.93                38.0        694.0           112.0   \n17662    -121.88     37.27                24.0       4567.0           688.0   \n2242     -119.78     36.83                11.0       2754.0           663.0   \n15909    -122.42     37.74                52.0       1674.0           346.0   \n17023    -122.32     37.52                26.0       4042.0           591.0   \n3517     -118.48     34.25                35.0       1442.0           276.0   \n11805    -121.32     38.89                 9.0       5927.0          1269.0   \n6473     -118.07     34.09                40.0       1745.0           370.0   \n6494     -118.01     34.08                35.0       1852.0           358.0   \n7420     -118.20     33.96                43.0       1233.0           306.0   \n\n       population  households  median_income  median_house_value  \\\n8343        412.0       119.0         6.0718            156000.0   \n17662      2102.0       695.0         5.6895            289000.0   \n2242       1328.0       604.0         2.3667             69300.0   \n15909       734.0       335.0         3.8864            281300.0   \n17023      1611.0       578.0         8.4693            419200.0   \n3517        795.0       268.0         4.9688            216900.0   \n11805      3369.0      1176.0         2.8194            111300.0   \n6473       1293.0       357.0         2.5474            198100.0   \n6494       1414.0       347.0         4.2750            173600.0   \n7420       1190.0       282.0         2.8371            161300.0   \n\n      ocean_proximity  \n8343        <1H OCEAN  \n17662       <1H OCEAN  \n2242           INLAND  \n15909        NEAR BAY  \n17023      NEAR OCEAN  \n3517        <1H OCEAN  \n11805          INLAND  \n6473        <1H OCEAN  \n6494           INLAND  \n7420        <1H OCEAN  ",
      "text/html": "<div>\n<style scoped>\n    .dataframe tbody tr th:only-of-type {\n        vertical-align: middle;\n    }\n\n    .dataframe tbody tr th {\n        vertical-align: top;\n    }\n\n    .dataframe thead th {\n        text-align: right;\n    }\n</style>\n<table border=\"1\" class=\"dataframe\">\n  <thead>\n    <tr style=\"text-align: right;\">\n      <th></th>\n      <th>longitude</th>\n      <th>latitude</th>\n      <th>housing_median_age</th>\n      <th>total_rooms</th>\n      <th>total_bedrooms</th>\n      <th>population</th>\n      <th>households</th>\n      <th>median_income</th>\n      <th>median_house_value</th>\n      <th>ocean_proximity</th>\n    </tr>\n  </thead>\n  <tbody>\n    <tr>\n      <th>8343</th>\n      <td>-118.33</td>\n      <td>33.93</td>\n      <td>38.0</td>\n      <td>694.0</td>\n      <td>112.0</td>\n      <td>412.0</td>\n      <td>119.0</td>\n      <td>6.0718</td>\n      <td>156000.0</td>\n      <td>&lt;1H OCEAN</td>\n    </tr>\n    <tr>\n      <th>17662</th>\n      <td>-121.88</td>\n      <td>37.27</td>\n      <td>24.0</td>\n      <td>4567.0</td>\n      <td>688.0</td>\n      <td>2102.0</td>\n      <td>695.0</td>\n      <td>5.6895</td>\n      <td>289000.0</td>\n      <td>&lt;1H OCEAN</td>\n    </tr>\n    <tr>\n      <th>2242</th>\n      <td>-119.78</td>\n      <td>36.83</td>\n      <td>11.0</td>\n      <td>2754.0</td>\n      <td>663.0</td>\n      <td>1328.0</td>\n      <td>604.0</td>\n      <td>2.3667</td>\n      <td>69300.0</td>\n      <td>INLAND</td>\n    </tr>\n    <tr>\n      <th>15909</th>\n      <td>-122.42</td>\n      <td>37.74</td>\n      <td>52.0</td>\n      <td>1674.0</td>\n      <td>346.0</td>\n      <td>734.0</td>\n      <td>335.0</td>\n      <td>3.8864</td>\n      <td>281300.0</td>\n      <td>NEAR BAY</td>\n    </tr>\n    <tr>\n      <th>17023</th>\n      <td>-122.32</td>\n      <td>37.52</td>\n      <td>26.0</td>\n      <td>4042.0</td>\n      <td>591.0</td>\n      <td>1611.0</td>\n      <td>578.0</td>\n      <td>8.4693</td>\n      <td>419200.0</td>\n      <td>NEAR OCEAN</td>\n    </tr>\n    <tr>\n      <th>3517</th>\n      <td>-118.48</td>\n      <td>34.25</td>\n      <td>35.0</td>\n      <td>1442.0</td>\n      <td>276.0</td>\n      <td>795.0</td>\n      <td>268.0</td>\n      <td>4.9688</td>\n      <td>216900.0</td>\n      <td>&lt;1H OCEAN</td>\n    </tr>\n    <tr>\n      <th>11805</th>\n      <td>-121.32</td>\n      <td>38.89</td>\n      <td>9.0</td>\n      <td>5927.0</td>\n      <td>1269.0</td>\n      <td>3369.0</td>\n      <td>1176.0</td>\n      <td>2.8194</td>\n      <td>111300.0</td>\n      <td>INLAND</td>\n    </tr>\n    <tr>\n      <th>6473</th>\n      <td>-118.07</td>\n      <td>34.09</td>\n      <td>40.0</td>\n      <td>1745.0</td>\n      <td>370.0</td>\n      <td>1293.0</td>\n      <td>357.0</td>\n      <td>2.5474</td>\n      <td>198100.0</td>\n      <td>&lt;1H OCEAN</td>\n    </tr>\n    <tr>\n      <th>6494</th>\n      <td>-118.01</td>\n      <td>34.08</td>\n      <td>35.0</td>\n      <td>1852.0</td>\n      <td>358.0</td>\n      <td>1414.0</td>\n      <td>347.0</td>\n      <td>4.2750</td>\n      <td>173600.0</td>\n      <td>INLAND</td>\n    </tr>\n    <tr>\n      <th>7420</th>\n      <td>-118.20</td>\n      <td>33.96</td>\n      <td>43.0</td>\n      <td>1233.0</td>\n      <td>306.0</td>\n      <td>1190.0</td>\n      <td>282.0</td>\n      <td>2.8371</td>\n      <td>161300.0</td>\n      <td>&lt;1H OCEAN</td>\n    </tr>\n  </tbody>\n</table>\n</div>"
     },
     "execution_count": 456,
     "metadata": {},
     "output_type": "execute_result"
    }
   ],
   "source": [
    "# Check dataframe\n",
    "df.sample(10)"
   ]
  },
  {
   "cell_type": "code",
   "execution_count": 457,
   "id": "9529d6b4",
   "metadata": {
    "ExecuteTime": {
     "end_time": "2023-09-25T20:41:09.734045Z",
     "start_time": "2023-09-25T20:41:09.613376Z"
    }
   },
   "outputs": [
    {
     "data": {
      "text/plain": "<Figure size 640x480 with 1 Axes>",
      "image/png": "[encoded data removed]"
     },
     "metadata": {},
     "output_type": "display_data"
    }
   ],
   "source": [
    "sns.histplot(df.median_house_value, bins=50, edgecolor='black')\n",
    "plt.title('Distribution of median_house_value')\n",
    "plt.show()"
   ]
  },
  {
   "cell_type": "code",
   "execution_count": 458,
   "id": "4b38b952",
   "metadata": {
    "ExecuteTime": {
     "end_time": "2023-09-25T20:41:09.739831Z",
     "start_time": "2023-09-25T20:41:09.735073Z"
    }
   },
   "outputs": [],
   "source": [
    "# Define values we want to keep\n",
    "values_to_keep = ['<1H OCEAN', 'INLAND']\n",
    "\n",
    "# Filter dataset to keep only required variables\n",
    "df_filtered = df[df['ocean_proximity'].isin(values_to_keep)]\n"
   ]
  },
  {
   "cell_type": "code",
   "execution_count": 459,
   "id": "c0699fc1",
   "metadata": {
    "ExecuteTime": {
     "end_time": "2023-09-25T20:41:09.740880Z",
     "start_time": "2023-09-25T20:41:09.738996Z"
    }
   },
   "outputs": [],
   "source": [
    "# Define columns we want to keep\n",
    "columns_to_keep = [\n",
    "    'latitude',\n",
    "    'longitude',\n",
    "    'housing_median_age',\n",
    "    'total_rooms',\n",
    "    'total_bedrooms',\n",
    "    'population',\n",
    "    'households',\n",
    "    'median_income',\n",
    "    'median_house_value'\n",
    "]\n",
    "\n",
    "# Keep only required columns for the project\n",
    "df_filtered = df_filtered[columns_to_keep]"
   ]
  },
  {
   "cell_type": "markdown",
   "source": [
    "## Question 1\n"
   ],
   "metadata": {
    "collapsed": false
   },
   "id": "f85a6488341d15f8"
  },
  {
   "cell_type": "code",
   "execution_count": 460,
   "outputs": [
    {
     "name": "stdout",
     "output_type": "stream",
     "text": [
      "latitude                0\n",
      "longitude               0\n",
      "housing_median_age      0\n",
      "total_rooms             0\n",
      "total_bedrooms        157\n",
      "population              0\n",
      "households              0\n",
      "median_income           0\n",
      "median_house_value      0\n",
      "dtype: int64\n"
     ]
    }
   ],
   "source": [
    "# Check missing values\n",
    "missing_values = df_filtered.isnull().sum()\n",
    "print(missing_values)"
   ],
   "metadata": {
    "collapsed": false,
    "ExecuteTime": {
     "end_time": "2023-09-25T20:41:09.746616Z",
     "start_time": "2023-09-25T20:41:09.741119Z"
    }
   },
   "id": "b662e1b238b70d93"
  },
  {
   "cell_type": "markdown",
   "source": [
    "## Question 2"
   ],
   "metadata": {
    "collapsed": false
   },
   "id": "e30d1624190b1b46"
  },
  {
   "cell_type": "code",
   "execution_count": 461,
   "outputs": [
    {
     "data": {
      "text/plain": "           latitude     longitude  housing_median_age   total_rooms  \\\ncount  15687.000000  15687.000000        15687.000000  15687.000000   \nmean      35.467307   -119.217442           27.188118   2665.677312   \nstd        2.066387      1.780380           12.057128   2257.672743   \nmin       32.610000   -124.140000            1.000000      2.000000   \n25%       33.940000   -121.070000           17.000000   1441.000000   \n50%       34.160000   -118.370000           27.000000   2118.000000   \n75%       37.340000   -117.990000           36.000000   3172.000000   \nmax       41.950000   -114.310000           52.000000  39320.000000   \n\n       total_bedrooms    population    households  median_income  \\\ncount    15530.000000  15687.000000  15687.000000   15687.000000   \nmean       541.244688   1466.317205    500.916491       3.804019   \nstd        435.650018   1180.389908    392.759399       1.857158   \nmin          2.000000      3.000000      2.000000       0.499900   \n25%        295.000000    802.000000    278.000000       2.520800   \n50%        432.000000   1195.000000    406.000000       3.468800   \n75%        645.000000   1777.000000    602.000000       4.686200   \nmax       6445.000000  35682.000000   6082.000000      15.000100   \n\n       median_house_value  \ncount        15687.000000  \nmean        191943.020017  \nstd         108801.077620  \nmin          14999.000000  \n25%         111300.000000  \n50%         166900.000000  \n75%         241100.000000  \nmax         500001.000000  ",
      "text/html": "<div>\n<style scoped>\n    .dataframe tbody tr th:only-of-type {\n        vertical-align: middle;\n    }\n\n    .dataframe tbody tr th {\n        vertical-align: top;\n    }\n\n    .dataframe thead th {\n        text-align: right;\n    }\n</style>\n<table border=\"1\" class=\"dataframe\">\n  <thead>\n    <tr style=\"text-align: right;\">\n      <th></th>\n      <th>latitude</th>\n      <th>longitude</th>\n      <th>housing_median_age</th>\n      <th>total_rooms</th>\n      <th>total_bedrooms</th>\n      <th>population</th>\n      <th>households</th>\n      <th>median_income</th>\n      <th>median_house_value</th>\n    </tr>\n  </thead>\n  <tbody>\n    <tr>\n      <th>count</th>\n      <td>15687.000000</td>\n      <td>15687.000000</td>\n      <td>15687.000000</td>\n      <td>15687.000000</td>\n      <td>15530.000000</td>\n      <td>15687.000000</td>\n      <td>15687.000000</td>\n      <td>15687.000000</td>\n      <td>15687.000000</td>\n    </tr>\n    <tr>\n      <th>mean</th>\n      <td>35.467307</td>\n      <td>-119.217442</td>\n      <td>27.188118</td>\n      <td>2665.677312</td>\n      <td>541.244688</td>\n      <td>1466.317205</td>\n      <td>500.916491</td>\n      <td>3.804019</td>\n      <td>191943.020017</td>\n    </tr>\n    <tr>\n      <th>std</th>\n      <td>2.066387</td>\n      <td>1.780380</td>\n      <td>12.057128</td>\n      <td>2257.672743</td>\n      <td>435.650018</td>\n      <td>1180.389908</td>\n      <td>392.759399</td>\n      <td>1.857158</td>\n      <td>108801.077620</td>\n    </tr>\n    <tr>\n      <th>min</th>\n      <td>32.610000</td>\n      <td>-124.140000</td>\n      <td>1.000000</td>\n      <td>2.000000</td>\n      <td>2.000000</td>\n      <td>3.000000</td>\n      <td>2.000000</td>\n      <td>0.499900</td>\n      <td>14999.000000</td>\n    </tr>\n    <tr>\n      <th>25%</th>\n      <td>33.940000</td>\n      <td>-121.070000</td>\n      <td>17.000000</td>\n      <td>1441.000000</td>\n      <td>295.000000</td>\n      <td>802.000000</td>\n      <td>278.000000</td>\n      <td>2.520800</td>\n      <td>111300.000000</td>\n    </tr>\n    <tr>\n      <th>50%</th>\n      <td>34.160000</td>\n      <td>-118.370000</td>\n      <td>27.000000</td>\n      <td>2118.000000</td>\n      <td>432.000000</td>\n      <td>1195.000000</td>\n      <td>406.000000</td>\n      <td>3.468800</td>\n      <td>166900.000000</td>\n    </tr>\n    <tr>\n      <th>75%</th>\n      <td>37.340000</td>\n      <td>-117.990000</td>\n      <td>36.000000</td>\n      <td>3172.000000</td>\n      <td>645.000000</td>\n      <td>1777.000000</td>\n      <td>602.000000</td>\n      <td>4.686200</td>\n      <td>241100.000000</td>\n    </tr>\n    <tr>\n      <th>max</th>\n      <td>41.950000</td>\n      <td>-114.310000</td>\n      <td>52.000000</td>\n      <td>39320.000000</td>\n      <td>6445.000000</td>\n      <td>35682.000000</td>\n      <td>6082.000000</td>\n      <td>15.000100</td>\n      <td>500001.000000</td>\n    </tr>\n  </tbody>\n</table>\n</div>"
     },
     "execution_count": 461,
     "metadata": {},
     "output_type": "execute_result"
    }
   ],
   "source": [
    "df_filtered.describe()"
   ],
   "metadata": {
    "collapsed": false,
    "ExecuteTime": {
     "end_time": "2023-09-25T20:41:09.807697Z",
     "start_time": "2023-09-25T20:41:09.744464Z"
    }
   },
   "id": "7a1e8ce27ca8e2a0"
  },
  {
   "cell_type": "code",
   "execution_count": 462,
   "outputs": [
    {
     "name": "stdout",
     "output_type": "stream",
     "text": [
      "1195.0\n"
     ]
    }
   ],
   "source": [
    "median_population = df_filtered['population'].median()\n",
    "print(median_population)"
   ],
   "metadata": {
    "collapsed": false,
    "ExecuteTime": {
     "end_time": "2023-09-25T20:41:09.808172Z",
     "start_time": "2023-09-25T20:41:09.765881Z"
    }
   },
   "id": "f7277b8b05d96eb6"
  },
  {
   "cell_type": "code",
   "execution_count": 463,
   "outputs": [],
   "source": [
    "# Set up the validation framework\n",
    "n = len(df_filtered)\n",
    "n_val = int(n * 0.2)\n",
    "n_test = int(n * 0.2)\n",
    "n_train = n - n_val - n_test"
   ],
   "metadata": {
    "collapsed": false,
    "ExecuteTime": {
     "end_time": "2023-09-25T20:41:09.808218Z",
     "start_time": "2023-09-25T20:41:09.771930Z"
    }
   },
   "id": "5ad0d8cf12b02219"
  },
  {
   "cell_type": "code",
   "execution_count": 464,
   "outputs": [
    {
     "data": {
      "text/plain": "(15687, 3137, 3137, 9413)"
     },
     "execution_count": 464,
     "metadata": {},
     "output_type": "execute_result"
    }
   ],
   "source": [
    "# Show the required dimentions of the dataset \n",
    "n, n_val, n_test, n_train"
   ],
   "metadata": {
    "collapsed": false,
    "ExecuteTime": {
     "end_time": "2023-09-25T20:41:09.808297Z",
     "start_time": "2023-09-25T20:41:09.774932Z"
    }
   },
   "id": "707e494675d79d02"
  },
  {
   "cell_type": "code",
   "execution_count": 465,
   "outputs": [],
   "source": [
    "df_train = df_filtered.iloc[:n_train]\n",
    "df_val = df_filtered.iloc[n_train:n_train + n_val]\n",
    "df_test = df_filtered.iloc[n_train + n_val:]"
   ],
   "metadata": {
    "collapsed": false,
    "ExecuteTime": {
     "end_time": "2023-09-25T20:41:09.808328Z",
     "start_time": "2023-09-25T20:41:09.778169Z"
    }
   },
   "id": "c6e658f184a428ed"
  },
  {
   "cell_type": "code",
   "execution_count": 466,
   "outputs": [],
   "source": [
    "#  Create a range of values from 0 up to (but not including) n\n",
    "idx = np.arange(n)"
   ],
   "metadata": {
    "collapsed": false,
    "ExecuteTime": {
     "end_time": "2023-09-25T20:41:09.808363Z",
     "start_time": "2023-09-25T20:41:09.781007Z"
    }
   },
   "id": "78842c9879098bb6"
  },
  {
   "cell_type": "code",
   "execution_count": 467,
   "outputs": [],
   "source": [
    "# Shuffle the dataset with seed 42\n",
    "np.random.seed(42)\n",
    "np.random.shuffle(idx)"
   ],
   "metadata": {
    "collapsed": false,
    "ExecuteTime": {
     "end_time": "2023-09-25T20:41:09.808392Z",
     "start_time": "2023-09-25T20:41:09.784088Z"
    }
   },
   "id": "6d6b627f3f6530d4"
  },
  {
   "cell_type": "code",
   "execution_count": 468,
   "outputs": [],
   "source": [
    "# Split the data in train/val/test sets, with 60%/20%/20% distribution\n",
    "df_train = df_filtered.iloc[idx[:n_train]]\n",
    "df_val = df_filtered.iloc[idx[n_train:n_train + n_val]]\n",
    "df_test = df_filtered.iloc[idx[n_train + n_val:]]"
   ],
   "metadata": {
    "collapsed": false,
    "ExecuteTime": {
     "end_time": "2023-09-25T20:41:09.808761Z",
     "start_time": "2023-09-25T20:41:09.787531Z"
    }
   },
   "id": "459dd8b875a008d7"
  },
  {
   "cell_type": "code",
   "execution_count": 469,
   "outputs": [
    {
     "data": {
      "text/plain": "       latitude  longitude  housing_median_age  total_rooms  total_bedrooms  \\\n19963     36.23    -119.14                22.0       2935.0           523.0   \n5929      34.12    -117.79                16.0       2426.0           426.0   \n11377     33.68    -117.97                26.0       3653.0           568.0   \n6443      34.10    -118.03                32.0       2668.0           609.0   \n17546     37.34    -121.87                39.0       2479.0           541.0   \n\n       population  households  median_income  median_house_value  \n19963      1927.0       530.0         2.5875             70400.0  \n5929       1319.0       446.0         4.8125            224500.0  \n11377      1930.0       585.0         5.7301            260900.0  \n6443       1512.0       541.0         2.9422            233100.0  \n17546      1990.0       506.0         2.4306            289100.0  ",
      "text/html": "<div>\n<style scoped>\n    .dataframe tbody tr th:only-of-type {\n        vertical-align: middle;\n    }\n\n    .dataframe tbody tr th {\n        vertical-align: top;\n    }\n\n    .dataframe thead th {\n        text-align: right;\n    }\n</style>\n<table border=\"1\" class=\"dataframe\">\n  <thead>\n    <tr style=\"text-align: right;\">\n      <th></th>\n      <th>latitude</th>\n      <th>longitude</th>\n      <th>housing_median_age</th>\n      <th>total_rooms</th>\n      <th>total_bedrooms</th>\n      <th>population</th>\n      <th>households</th>\n      <th>median_income</th>\n      <th>median_house_value</th>\n    </tr>\n  </thead>\n  <tbody>\n    <tr>\n      <th>19963</th>\n      <td>36.23</td>\n      <td>-119.14</td>\n      <td>22.0</td>\n      <td>2935.0</td>\n      <td>523.0</td>\n      <td>1927.0</td>\n      <td>530.0</td>\n      <td>2.5875</td>\n      <td>70400.0</td>\n    </tr>\n    <tr>\n      <th>5929</th>\n      <td>34.12</td>\n      <td>-117.79</td>\n      <td>16.0</td>\n      <td>2426.0</td>\n      <td>426.0</td>\n      <td>1319.0</td>\n      <td>446.0</td>\n      <td>4.8125</td>\n      <td>224500.0</td>\n    </tr>\n    <tr>\n      <th>11377</th>\n      <td>33.68</td>\n      <td>-117.97</td>\n      <td>26.0</td>\n      <td>3653.0</td>\n      <td>568.0</td>\n      <td>1930.0</td>\n      <td>585.0</td>\n      <td>5.7301</td>\n      <td>260900.0</td>\n    </tr>\n    <tr>\n      <th>6443</th>\n      <td>34.10</td>\n      <td>-118.03</td>\n      <td>32.0</td>\n      <td>2668.0</td>\n      <td>609.0</td>\n      <td>1512.0</td>\n      <td>541.0</td>\n      <td>2.9422</td>\n      <td>233100.0</td>\n    </tr>\n    <tr>\n      <th>17546</th>\n      <td>37.34</td>\n      <td>-121.87</td>\n      <td>39.0</td>\n      <td>2479.0</td>\n      <td>541.0</td>\n      <td>1990.0</td>\n      <td>506.0</td>\n      <td>2.4306</td>\n      <td>289100.0</td>\n    </tr>\n  </tbody>\n</table>\n</div>"
     },
     "execution_count": 469,
     "metadata": {},
     "output_type": "execute_result"
    }
   ],
   "source": [
    "df_train.head()"
   ],
   "metadata": {
    "collapsed": false,
    "ExecuteTime": {
     "end_time": "2023-09-25T20:41:09.809181Z",
     "start_time": "2023-09-25T20:41:09.795766Z"
    }
   },
   "id": "6f36651458e64a1c"
  },
  {
   "cell_type": "code",
   "execution_count": 470,
   "outputs": [
    {
     "data": {
      "text/plain": "(9413, 3137, 3137)"
     },
     "execution_count": 470,
     "metadata": {},
     "output_type": "execute_result"
    }
   ],
   "source": [
    "len(df_train), len(df_val), len(df_test)"
   ],
   "metadata": {
    "collapsed": false,
    "ExecuteTime": {
     "end_time": "2023-09-25T20:41:09.809376Z",
     "start_time": "2023-09-25T20:41:09.799609Z"
    }
   },
   "id": "6166316301b024d"
  },
  {
   "cell_type": "code",
   "execution_count": 471,
   "outputs": [],
   "source": [
    "df_train = df_train.reset_index(drop=True)\n",
    "df_val = df_val.reset_index(drop=True)\n",
    "df_test = df_test.reset_index(drop=True)\n"
   ],
   "metadata": {
    "collapsed": false,
    "ExecuteTime": {
     "end_time": "2023-09-25T20:41:09.809511Z",
     "start_time": "2023-09-25T20:41:09.803030Z"
    }
   },
   "id": "bf0a61bd7d534a26"
  },
  {
   "cell_type": "code",
   "execution_count": 472,
   "outputs": [],
   "source": [
    "# Apply the log transformation to the median_house_value variable using the np.log1p() function.\n",
    "y_train = np.log1p(df_train.median_house_value.values)\n",
    "y_val = np.log1p(df_val.median_house_value.values)\n",
    "y_test = np.log1p(df_test.median_house_value.values)"
   ],
   "metadata": {
    "collapsed": false,
    "ExecuteTime": {
     "end_time": "2023-09-25T20:41:09.861656Z",
     "start_time": "2023-09-25T20:41:09.807080Z"
    }
   },
   "id": "a3460e1a05511b52"
  },
  {
   "cell_type": "code",
   "execution_count": 473,
   "outputs": [],
   "source": [
    "# Remove target column from the data\n",
    "del df_train['median_house_value']\n",
    "del df_val['median_house_value']\n",
    "del df_test['median_house_value']"
   ],
   "metadata": {
    "collapsed": false,
    "ExecuteTime": {
     "end_time": "2023-09-25T20:41:09.861877Z",
     "start_time": "2023-09-25T20:41:09.810864Z"
    }
   },
   "id": "d12f66a86584ee4"
  },
  {
   "cell_type": "markdown",
   "source": [
    "## Question 3"
   ],
   "metadata": {
    "collapsed": false
   },
   "id": "c7421fde1949dd32"
  },
  {
   "cell_type": "code",
   "execution_count": 474,
   "outputs": [],
   "source": [
    "def train_linear_regression(X, y):\n",
    "    ones = np.ones(X.shape[0])\n",
    "    X = np.column_stack([ones, X])\n",
    "\n",
    "    XTX = X.T.dot(X)\n",
    "    XTX_inv = np.linalg.inv(XTX)\n",
    "    w_full = XTX_inv.dot(X.T).dot(y)\n",
    "\n",
    "    return w_full[0], w_full[1:]"
   ],
   "metadata": {
    "collapsed": false,
    "ExecuteTime": {
     "end_time": "2023-09-25T20:41:09.861926Z",
     "start_time": "2023-09-25T20:41:09.813986Z"
    }
   },
   "id": "82e20d5685610fa1"
  },
  {
   "cell_type": "code",
   "execution_count": 475,
   "outputs": [],
   "source": [
    "# Calculate RMSE\n",
    "def rmse(y, y_pred):\n",
    "    se = (y - y_pred) ** 2\n",
    "    mse = se.mean()\n",
    "    return np.sqrt(mse)"
   ],
   "metadata": {
    "collapsed": false,
    "ExecuteTime": {
     "end_time": "2023-09-25T20:41:09.861974Z",
     "start_time": "2023-09-25T20:41:09.817037Z"
    }
   },
   "id": "cd87b7f6ac4aabc0"
  },
  {
   "cell_type": "markdown",
   "source": [
    "### Option 1: fill missing values in the column total_bedrooms with 0 "
   ],
   "metadata": {
    "collapsed": false
   },
   "id": "1482b4c31895315"
  },
  {
   "cell_type": "code",
   "execution_count": 476,
   "outputs": [
    {
     "name": "stdout",
     "output_type": "stream",
     "text": [
      "<class 'pandas.core.frame.DataFrame'>\n",
      "RangeIndex: 9413 entries, 0 to 9412\n",
      "Data columns (total 8 columns):\n",
      " #   Column              Non-Null Count  Dtype  \n",
      "---  ------              --------------  -----  \n",
      " 0   latitude            9413 non-null   float64\n",
      " 1   longitude           9413 non-null   float64\n",
      " 2   housing_median_age  9413 non-null   float64\n",
      " 3   total_rooms         9413 non-null   float64\n",
      " 4   total_bedrooms      9319 non-null   float64\n",
      " 5   population          9413 non-null   float64\n",
      " 6   households          9413 non-null   float64\n",
      " 7   median_income       9413 non-null   float64\n",
      "dtypes: float64(8)\n",
      "memory usage: 588.4 KB\n"
     ]
    }
   ],
   "source": [
    "df_train.info()"
   ],
   "metadata": {
    "collapsed": false,
    "ExecuteTime": {
     "end_time": "2023-09-25T20:41:09.862071Z",
     "start_time": "2023-09-25T20:41:09.819831Z"
    }
   },
   "id": "e3ef22a8ebcad81a"
  },
  {
   "cell_type": "code",
   "execution_count": 477,
   "outputs": [],
   "source": [
    "# Filling missing values with 0\n",
    "df_train_zero = df_train.copy()\n",
    "df_val_zero = df_val.copy()\n",
    "\n",
    "df_train_zero['total_bedrooms'] = df_train_zero['total_bedrooms'].fillna(0)\n",
    "df_val_zero['total_bedrooms'] = df_val_zero['total_bedrooms'].fillna(0)"
   ],
   "metadata": {
    "collapsed": false,
    "ExecuteTime": {
     "end_time": "2023-09-25T20:41:09.928613Z",
     "start_time": "2023-09-25T20:41:09.826041Z"
    }
   },
   "id": "8d98d8d79b148ba2"
  },
  {
   "cell_type": "code",
   "execution_count": 478,
   "outputs": [
    {
     "data": {
      "text/plain": "0.3408479034176266"
     },
     "execution_count": 478,
     "metadata": {},
     "output_type": "execute_result"
    }
   ],
   "source": [
    "# Training and evaluating the model with 0-filled data\n",
    "w0_zero, w_zero = train_linear_regression(df_train_zero.values, y_train)\n",
    "y_pred_zero = w0_zero + df_val_zero.dot(w_zero)\n",
    "score_zero = rmse(y_val, y_pred_zero)\n",
    "score_zero"
   ],
   "metadata": {
    "collapsed": false,
    "ExecuteTime": {
     "end_time": "2023-09-25T20:41:10.130424Z",
     "start_time": "2023-09-25T20:41:09.834083Z"
    }
   },
   "id": "c4ab4127f939c59e"
  },
  {
   "cell_type": "code",
   "execution_count": 479,
   "outputs": [
    {
     "data": {
      "text/plain": "<Figure size 640x480 with 1 Axes>",
      "image/png": "[encoded data removed]"
     },
     "metadata": {},
     "output_type": "display_data"
    }
   ],
   "source": [
    "sns.histplot(y_pred_zero, color='red', alpha=0.5, bins=50)\n",
    "sns.histplot(y_val, color='blue', alpha=0.5, bins=50);"
   ],
   "metadata": {
    "collapsed": false,
    "ExecuteTime": {
     "end_time": "2023-09-25T20:41:10.224998Z",
     "start_time": "2023-09-25T20:41:09.899411Z"
    }
   },
   "id": "90256f6458cf70c9"
  },
  {
   "cell_type": "code",
   "execution_count": 480,
   "outputs": [
    {
     "data": {
      "text/plain": "0.3408479034176266"
     },
     "execution_count": 480,
     "metadata": {},
     "output_type": "execute_result"
    }
   ],
   "source": [
    "score_zero\n"
   ],
   "metadata": {
    "collapsed": false,
    "ExecuteTime": {
     "end_time": "2023-09-25T20:41:10.237698Z",
     "start_time": "2023-09-25T20:41:10.116908Z"
    }
   },
   "id": "9e06955ef80fa622"
  },
  {
   "cell_type": "markdown",
   "source": [
    "## Option 2: fill missing values in the column total_bedrooms with mean "
   ],
   "metadata": {
    "collapsed": false
   },
   "id": "f15211da9cf82edc"
  },
  {
   "cell_type": "code",
   "execution_count": 481,
   "outputs": [],
   "source": [
    "# Filling missing values with mean\n",
    "mean_value = df_train['total_bedrooms'].mean()\n",
    "df_train_mean = df_train.copy()\n",
    "df_val_mean = df_val.copy()\n",
    "\n",
    "df_train_mean['total_bedrooms'] = df_train_mean['total_bedrooms'].fillna(mean_value)\n",
    "df_val_mean['total_bedrooms'] = df_val_mean['total_bedrooms'].fillna(mean_value)\n"
   ],
   "metadata": {
    "collapsed": false,
    "ExecuteTime": {
     "end_time": "2023-09-25T20:41:10.267850Z",
     "start_time": "2023-09-25T20:41:10.141031Z"
    }
   },
   "id": "c496e02aeb0e1eca"
  },
  {
   "cell_type": "code",
   "execution_count": 482,
   "outputs": [],
   "source": [
    "# Training and evaluating the model with mean-filled data\n",
    "w0_mean, w_mean = train_linear_regression(df_train_mean.values, y_train)\n",
    "y_pred_mean = w0_mean + df_val_mean.dot(w_mean)\n",
    "score_mean = rmse(y_val, y_pred_mean)"
   ],
   "metadata": {
    "collapsed": false,
    "ExecuteTime": {
     "end_time": "2023-09-25T20:41:10.268263Z",
     "start_time": "2023-09-25T20:41:10.146540Z"
    }
   },
   "id": "3d785d0dc7c08c4b"
  },
  {
   "cell_type": "code",
   "execution_count": 483,
   "outputs": [
    {
     "data": {
      "text/plain": "<Figure size 640x480 with 1 Axes>",
      "image/png": "[encoded data removed]"
     },
     "metadata": {},
     "output_type": "display_data"
    }
   ],
   "source": [
    "sns.histplot(y_val, color='red', alpha=0.5, bins=50)\n",
    "sns.histplot(y_pred_mean, color='blue', alpha=0.5, bins=50);"
   ],
   "metadata": {
    "collapsed": false,
    "ExecuteTime": {
     "end_time": "2023-09-25T20:41:10.403745Z",
     "start_time": "2023-09-25T20:41:10.199819Z"
    }
   },
   "id": "40b198d5cdf3870d"
  },
  {
   "cell_type": "code",
   "execution_count": 484,
   "outputs": [
    {
     "data": {
      "text/plain": "0.34056998014373"
     },
     "execution_count": 484,
     "metadata": {},
     "output_type": "execute_result"
    }
   ],
   "source": [
    "rmse(y_val, y_pred_mean)"
   ],
   "metadata": {
    "collapsed": false,
    "ExecuteTime": {
     "end_time": "2023-09-25T20:41:10.412292Z",
     "start_time": "2023-09-25T20:41:10.403928Z"
    }
   },
   "id": "728b3038e5c6e2ed"
  },
  {
   "cell_type": "code",
   "execution_count": 485,
   "outputs": [
    {
     "name": "stdout",
     "output_type": "stream",
     "text": [
      "RMSE with zeros: 0.34084790341762660759\n",
      "RMSE with mean: 0.34056998014373002226\n"
     ]
    }
   ],
   "source": [
    "print(f\"RMSE with zeros: {score_zero:.20f}\")\n",
    "print(f\"RMSE with mean: {score_mean:.20f}\")"
   ],
   "metadata": {
    "collapsed": false,
    "ExecuteTime": {
     "end_time": "2023-09-25T20:41:10.418803Z",
     "start_time": "2023-09-25T20:41:10.413806Z"
    }
   },
   "id": "3b245b88a4bbc8af"
  },
  {
   "cell_type": "markdown",
   "source": [
    "Answer:  Both are equally good"
   ],
   "metadata": {
    "collapsed": false
   },
   "id": "c4a19e397b1bc8a1"
  },
  {
   "cell_type": "markdown",
   "source": [
    "## Question 4"
   ],
   "metadata": {
    "collapsed": false
   },
   "id": "7ef2eed41e1fda1"
  },
  {
   "cell_type": "code",
   "execution_count": 486,
   "outputs": [],
   "source": [
    "def train_linear_regression_reg(X, y, r=0.001):\n",
    "    ones = np.ones(X.shape[0])\n",
    "    X = np.column_stack([ones, X])\n",
    "\n",
    "    XTX = X.T.dot(X)\n",
    "    XTX = XTX + r * np.eye(XTX.shape[0])\n",
    "\n",
    "    XTX_inv = np.linalg.inv(XTX)\n",
    "    w_full = XTX_inv.dot(X.T).dot(y)\n",
    "\n",
    "    return w_full[0], w_full[1:]"
   ],
   "metadata": {
    "collapsed": false,
    "ExecuteTime": {
     "end_time": "2023-09-25T20:41:10.474108Z",
     "start_time": "2023-09-25T20:41:10.420645Z"
    }
   },
   "id": "e7804a9060a2d23e"
  },
  {
   "cell_type": "code",
   "execution_count": 487,
   "outputs": [
    {
     "name": "stdout",
     "output_type": "stream",
     "text": [
      "0 -9.763249478052225 0.3408479034\n",
      "1e-06 -9.763228830851833 0.3408479062\n",
      "0.0001 -9.761185235851151 0.3408481801\n",
      "0.001 -9.742646249818254 0.3408506922\n",
      "0.01 -9.561056192964566 0.34087793\n",
      "0.1 -8.058889769570351 0.3412862042\n",
      "1 -3.1331542783778734 0.3448958328\n",
      "5 -0.8410867974609664 0.347739807\n",
      "10 -0.4381172316101039 0.3483149834\n",
      "\n",
      "Smallest score is: 0.3408479034 for r = 0\n"
     ]
    }
   ],
   "source": [
    "def prepare_X(df):\n",
    "    df = df.copy()\n",
    "    df['total_bedrooms'] = df['total_bedrooms'].fillna(0)\n",
    "    return df.values\n",
    "\n",
    "X_train = prepare_X(df_train)\n",
    "X_val = prepare_X(df_val)  # Move this outside the loop\n",
    "\n",
    "# Initialize variables to track the smallest score and its corresponding r value\n",
    "smallest_score = float('inf')  # set to positive infinity initially\n",
    "best_r = None\n",
    "\n",
    "for r in [0, 0.000001, 0.0001, 0.001, 0.01, 0.1, 1, 5, 10]:\n",
    "    w0, w = train_linear_regression_reg(X_train, y_train, r=r)\n",
    "    y_pred = w0 + X_val.dot(w)  # This stays inside the loop to get predictions for each model\n",
    "    score = round(rmse(y_val, y_pred), 10)  # Adjusted precision to 2 decimals instead of 100\n",
    "\n",
    "    # Update if the current score is smaller than the smallest score found so far\n",
    "    if score < smallest_score:\n",
    "        smallest_score = score\n",
    "        best_r = r\n",
    "\n",
    "    print(r, w0, score)\n",
    "\n",
    "# Print the smallest score and its corresponding r value\n",
    "print(\"\\nSmallest score is:\", smallest_score, \"for r =\", best_r)"
   ],
   "metadata": {
    "collapsed": false,
    "ExecuteTime": {
     "end_time": "2023-09-25T20:41:10.521177Z",
     "start_time": "2023-09-25T20:41:10.427359Z"
    }
   },
   "id": "ccb4b9bfd090970d"
  },
  {
   "cell_type": "markdown",
   "source": [
    "## Question 5"
   ],
   "metadata": {
    "collapsed": false
   },
   "id": "8515595707e57698"
  },
  {
   "cell_type": "code",
   "execution_count": 503,
   "outputs": [
    {
     "name": "stdout",
     "output_type": "stream",
     "text": [
      "RMSE for seed 0: 0.3397566617870557\n",
      "RMSE for seed 1: 0.3423378780934794\n",
      "RMSE for seed 2: 0.3417849574656917\n",
      "RMSE for seed 3: 0.3330456962162494\n",
      "RMSE for seed 4: 0.3303781171939423\n",
      "RMSE for seed 5: 0.3374197396750389\n",
      "RMSE for seed 6: 0.33611049440312407\n",
      "RMSE for seed 7: 0.339038758889373\n",
      "RMSE for seed 8: 0.33922513945891175\n",
      "RMSE for seed 9: 0.3321521361401716\n",
      "Standard deviation of RMSE scores: 0.004\n"
     ]
    }
   ],
   "source": [
    "rmse_scores = []\n",
    "for seed in [0, 1, 2, 3, 4, 5, 6, 7, 8, 9]:\n",
    "    np.random.seed(seed)\n",
    "    np.random.shuffle(idx)\n",
    "\n",
    "    df_train = df_filtered.iloc[idx[:n_train]]\n",
    "    df_val = df_filtered.iloc[idx[n_train:n_train + n_val]]\n",
    "    df_test = df_filtered.iloc[idx[n_train + n_val:]]\n",
    "\n",
    "    y_train = np.log1p(df_train.median_house_value.values)\n",
    "    y_val = np.log1p(df_val.median_house_value.values)\n",
    "\n",
    "    del df_train['median_house_value']\n",
    "    del df_val['median_house_value']\n",
    "\n",
    "    df_train = df_train.fillna(0)\n",
    "    df_val = df_val.fillna(0)\n",
    "\n",
    "    X_train = prepare_X(df_train)\n",
    "    w0, w = train_linear_regression(X_train, y_train)\n",
    "\n",
    "    X_val = prepare_X(df_val)\n",
    "    y_pred = w0 + X_val.dot(w)\n",
    "\n",
    "    score = rmse(y_val, y_pred)\n",
    "    rmse_scores.append(score)\n",
    "    print(f'RMSE for seed {seed}: {score}')\n",
    "\n",
    "std_rmse = np.std(rmse_scores)\n",
    "std_rmse = round(std_rmse, 3)\n",
    "\n",
    "print(f'Standard deviation of RMSE scores: {std_rmse}')"
   ],
   "metadata": {
    "collapsed": false,
    "ExecuteTime": {
     "end_time": "2023-09-25T20:42:57.692431Z",
     "start_time": "2023-09-25T20:42:57.556831Z"
    }
   },
   "id": "6ece4243a1b4d2c4"
  },
  {
   "cell_type": "markdown",
   "source": [
    "## Question 6"
   ],
   "metadata": {
    "collapsed": false
   },
   "id": "296dedbcfe189931"
  },
  {
   "cell_type": "code",
   "execution_count": 504,
   "outputs": [
    {
     "name": "stdout",
     "output_type": "stream",
     "text": [
      "RMSE on test dataset: 0.34\n"
     ]
    }
   ],
   "source": [
    "np.random.seed(9)\n",
    "np.random.shuffle(idx)\n",
    "\n",
    "df_train = df_filtered.iloc[idx[:n_train]]\n",
    "df_val = df_filtered.iloc[idx[n_train:n_train + n_val]]\n",
    "df_test = df_filtered.iloc[idx[n_train + n_val:]]\n",
    "\n",
    "y_train = np.log1p(df_train.median_house_value.values)\n",
    "y_val = np.log1p(df_val.median_house_value.values)\n",
    "y_test = np.log1p(df_test.median_house_value.values)\n",
    "\n",
    "del df_train['median_house_value']\n",
    "del df_val['median_house_value']\n",
    "del df_test['median_house_value']\n",
    "\n",
    "df_train = df_train.fillna(0)\n",
    "df_val = df_val.fillna(0)\n",
    "df_test = df_test.fillna(0)\n",
    "\n",
    "df_full_train = pd.concat([df_train, df_val]) # concatenate two or more dataframes or series along a particular axis (default is axis=0, which is row-wise).\n",
    "X_full_train = prepare_X(df_full_train)\n",
    "y_full_train = np.concatenate([y_train, y_val]) #  concatenate two or more arrays along a specified axis (default is axis=0).\n",
    "\n",
    "w0, w = train_linear_regression_reg(X_full_train, y_full_train, r=0.001)\n",
    "\n",
    "X_test = prepare_X(df_test)\n",
    "y_pred_test = w0 + X_test.dot(w)\n",
    "score_test = rmse(y_test, y_pred_test)\n",
    "\n",
    "print(f'RMSE on test dataset: {score_test:.2f}')"
   ],
   "metadata": {
    "collapsed": false,
    "ExecuteTime": {
     "end_time": "2023-09-25T20:43:24.300273Z",
     "start_time": "2023-09-25T20:43:24.132425Z"
    }
   },
   "id": "e77392221a17df9d"
  }
 ],
 "metadata": {
  "kernelspec": {
   "display_name": "Python 3 (ipykernel)",
   "language": "python",
   "name": "python3"
  },
  "language_info": {
   "codemirror_mode": {
    "name": "ipython",
    "version": 3
   },
   "file_extension": ".py",
   "mimetype": "text/x-python",
   "name": "python",
   "nbconvert_exporter": "python",
   "pygments_lexer": "ipython3",
   "version": "3.9.6"
  }
 },
 "nbformat": 4,
 "nbformat_minor": 5
}
